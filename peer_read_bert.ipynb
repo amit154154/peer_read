{
  "metadata": {
    "kernelspec": {
      "language": "python",
      "display_name": "Python 3",
      "name": "python3"
    },
    "language_info": {
      "name": "python",
      "version": "3.7.12",
      "mimetype": "text/x-python",
      "codemirror_mode": {
        "name": "ipython",
        "version": 3
      },
      "pygments_lexer": "ipython3",
      "nbconvert_exporter": "python",
      "file_extension": ".py"
    },
    "colab": {
      "name": "peer_read_bert.ipynb",
      "provenance": []
    },
    "accelerator": "GPU",
    "gpuClass": "standard",
    "widgets": {
      "application/vnd.jupyter.widget-state+json": {
        "885d73e8723c436bbe93be8c7fe3b2a9": {
          "model_module": "@jupyter-widgets/controls",
          "model_name": "VBoxModel",
          "model_module_version": "1.5.0",
          "state": {
            "_dom_classes": [],
            "_model_module": "@jupyter-widgets/controls",
            "_model_module_version": "1.5.0",
            "_model_name": "VBoxModel",
            "_view_count": null,
            "_view_module": "@jupyter-widgets/controls",
            "_view_module_version": "1.5.0",
            "_view_name": "VBoxView",
            "box_style": "",
            "children": [
              "IPY_MODEL_fff6f2fc8f734d03a46816390b1de7ba",
              "IPY_MODEL_b2051948b7284bc28b99dd5256d56fd2"
            ],
            "layout": "IPY_MODEL_9834acf03be44ffb9abeef344b0dfc6a"
          }
        },
        "fff6f2fc8f734d03a46816390b1de7ba": {
          "model_module": "@jupyter-widgets/controls",
          "model_name": "LabelModel",
          "model_module_version": "1.5.0",
          "state": {
            "_dom_classes": [],
            "_model_module": "@jupyter-widgets/controls",
            "_model_module_version": "1.5.0",
            "_model_name": "LabelModel",
            "_view_count": null,
            "_view_module": "@jupyter-widgets/controls",
            "_view_module_version": "1.5.0",
            "_view_name": "LabelView",
            "description": "",
            "description_tooltip": null,
            "layout": "IPY_MODEL_ade0d4eae84e49f2a161361762ddd911",
            "placeholder": "​",
            "style": "IPY_MODEL_33f2be9f5ec947d09fd97b2d27b775d4",
            "value": "0.014 MB of 0.014 MB uploaded (0.000 MB deduped)\r"
          }
        },
        "b2051948b7284bc28b99dd5256d56fd2": {
          "model_module": "@jupyter-widgets/controls",
          "model_name": "FloatProgressModel",
          "model_module_version": "1.5.0",
          "state": {
            "_dom_classes": [],
            "_model_module": "@jupyter-widgets/controls",
            "_model_module_version": "1.5.0",
            "_model_name": "FloatProgressModel",
            "_view_count": null,
            "_view_module": "@jupyter-widgets/controls",
            "_view_module_version": "1.5.0",
            "_view_name": "ProgressView",
            "bar_style": "",
            "description": "",
            "description_tooltip": null,
            "layout": "IPY_MODEL_9952b99fafdd4d7699de91e979259d81",
            "max": 1,
            "min": 0,
            "orientation": "horizontal",
            "style": "IPY_MODEL_e97c4781e80d46ffb5cb6edfb0433626",
            "value": 1
          }
        },
        "9834acf03be44ffb9abeef344b0dfc6a": {
          "model_module": "@jupyter-widgets/base",
          "model_name": "LayoutModel",
          "model_module_version": "1.2.0",
          "state": {
            "_model_module": "@jupyter-widgets/base",
            "_model_module_version": "1.2.0",
            "_model_name": "LayoutModel",
            "_view_count": null,
            "_view_module": "@jupyter-widgets/base",
            "_view_module_version": "1.2.0",
            "_view_name": "LayoutView",
            "align_content": null,
            "align_items": null,
            "align_self": null,
            "border": null,
            "bottom": null,
            "display": null,
            "flex": null,
            "flex_flow": null,
            "grid_area": null,
            "grid_auto_columns": null,
            "grid_auto_flow": null,
            "grid_auto_rows": null,
            "grid_column": null,
            "grid_gap": null,
            "grid_row": null,
            "grid_template_areas": null,
            "grid_template_columns": null,
            "grid_template_rows": null,
            "height": null,
            "justify_content": null,
            "justify_items": null,
            "left": null,
            "margin": null,
            "max_height": null,
            "max_width": null,
            "min_height": null,
            "min_width": null,
            "object_fit": null,
            "object_position": null,
            "order": null,
            "overflow": null,
            "overflow_x": null,
            "overflow_y": null,
            "padding": null,
            "right": null,
            "top": null,
            "visibility": null,
            "width": null
          }
        },
        "ade0d4eae84e49f2a161361762ddd911": {
          "model_module": "@jupyter-widgets/base",
          "model_name": "LayoutModel",
          "model_module_version": "1.2.0",
          "state": {
            "_model_module": "@jupyter-widgets/base",
            "_model_module_version": "1.2.0",
            "_model_name": "LayoutModel",
            "_view_count": null,
            "_view_module": "@jupyter-widgets/base",
            "_view_module_version": "1.2.0",
            "_view_name": "LayoutView",
            "align_content": null,
            "align_items": null,
            "align_self": null,
            "border": null,
            "bottom": null,
            "display": null,
            "flex": null,
            "flex_flow": null,
            "grid_area": null,
            "grid_auto_columns": null,
            "grid_auto_flow": null,
            "grid_auto_rows": null,
            "grid_column": null,
            "grid_gap": null,
            "grid_row": null,
            "grid_template_areas": null,
            "grid_template_columns": null,
            "grid_template_rows": null,
            "height": null,
            "justify_content": null,
            "justify_items": null,
            "left": null,
            "margin": null,
            "max_height": null,
            "max_width": null,
            "min_height": null,
            "min_width": null,
            "object_fit": null,
            "object_position": null,
            "order": null,
            "overflow": null,
            "overflow_x": null,
            "overflow_y": null,
            "padding": null,
            "right": null,
            "top": null,
            "visibility": null,
            "width": null
          }
        },
        "33f2be9f5ec947d09fd97b2d27b775d4": {
          "model_module": "@jupyter-widgets/controls",
          "model_name": "DescriptionStyleModel",
          "model_module_version": "1.5.0",
          "state": {
            "_model_module": "@jupyter-widgets/controls",
            "_model_module_version": "1.5.0",
            "_model_name": "DescriptionStyleModel",
            "_view_count": null,
            "_view_module": "@jupyter-widgets/base",
            "_view_module_version": "1.2.0",
            "_view_name": "StyleView",
            "description_width": ""
          }
        },
        "9952b99fafdd4d7699de91e979259d81": {
          "model_module": "@jupyter-widgets/base",
          "model_name": "LayoutModel",
          "model_module_version": "1.2.0",
          "state": {
            "_model_module": "@jupyter-widgets/base",
            "_model_module_version": "1.2.0",
            "_model_name": "LayoutModel",
            "_view_count": null,
            "_view_module": "@jupyter-widgets/base",
            "_view_module_version": "1.2.0",
            "_view_name": "LayoutView",
            "align_content": null,
            "align_items": null,
            "align_self": null,
            "border": null,
            "bottom": null,
            "display": null,
            "flex": null,
            "flex_flow": null,
            "grid_area": null,
            "grid_auto_columns": null,
            "grid_auto_flow": null,
            "grid_auto_rows": null,
            "grid_column": null,
            "grid_gap": null,
            "grid_row": null,
            "grid_template_areas": null,
            "grid_template_columns": null,
            "grid_template_rows": null,
            "height": null,
            "justify_content": null,
            "justify_items": null,
            "left": null,
            "margin": null,
            "max_height": null,
            "max_width": null,
            "min_height": null,
            "min_width": null,
            "object_fit": null,
            "object_position": null,
            "order": null,
            "overflow": null,
            "overflow_x": null,
            "overflow_y": null,
            "padding": null,
            "right": null,
            "top": null,
            "visibility": null,
            "width": null
          }
        },
        "e97c4781e80d46ffb5cb6edfb0433626": {
          "model_module": "@jupyter-widgets/controls",
          "model_name": "ProgressStyleModel",
          "model_module_version": "1.5.0",
          "state": {
            "_model_module": "@jupyter-widgets/controls",
            "_model_module_version": "1.5.0",
            "_model_name": "ProgressStyleModel",
            "_view_count": null,
            "_view_module": "@jupyter-widgets/base",
            "_view_module_version": "1.2.0",
            "_view_name": "StyleView",
            "bar_color": null,
            "description_width": ""
          }
        },
        "3eee591c1f094a5d8c4c40eae44d6d18": {
          "model_module": "@jupyter-widgets/controls",
          "model_name": "VBoxModel",
          "model_module_version": "1.5.0",
          "state": {
            "_dom_classes": [],
            "_model_module": "@jupyter-widgets/controls",
            "_model_module_version": "1.5.0",
            "_model_name": "VBoxModel",
            "_view_count": null,
            "_view_module": "@jupyter-widgets/controls",
            "_view_module_version": "1.5.0",
            "_view_name": "VBoxView",
            "box_style": "",
            "children": [
              "IPY_MODEL_76b77d34e7344417a8dc3eae4141faf6",
              "IPY_MODEL_0fb9cddfe95545a2a54fd0d8fc52f60b"
            ],
            "layout": "IPY_MODEL_c1b8d00c017643c08ef5d979e3c02ee0"
          }
        },
        "76b77d34e7344417a8dc3eae4141faf6": {
          "model_module": "@jupyter-widgets/controls",
          "model_name": "LabelModel",
          "model_module_version": "1.5.0",
          "state": {
            "_dom_classes": [],
            "_model_module": "@jupyter-widgets/controls",
            "_model_module_version": "1.5.0",
            "_model_name": "LabelModel",
            "_view_count": null,
            "_view_module": "@jupyter-widgets/controls",
            "_view_module_version": "1.5.0",
            "_view_name": "LabelView",
            "description": "",
            "description_tooltip": null,
            "layout": "IPY_MODEL_bb18a5a601604fe785ff191a625b6e60",
            "placeholder": "​",
            "style": "IPY_MODEL_9ef646bc41e64e5697999a4c42220491",
            "value": "0.017 MB of 0.017 MB uploaded (0.000 MB deduped)\r"
          }
        },
        "0fb9cddfe95545a2a54fd0d8fc52f60b": {
          "model_module": "@jupyter-widgets/controls",
          "model_name": "FloatProgressModel",
          "model_module_version": "1.5.0",
          "state": {
            "_dom_classes": [],
            "_model_module": "@jupyter-widgets/controls",
            "_model_module_version": "1.5.0",
            "_model_name": "FloatProgressModel",
            "_view_count": null,
            "_view_module": "@jupyter-widgets/controls",
            "_view_module_version": "1.5.0",
            "_view_name": "ProgressView",
            "bar_style": "",
            "description": "",
            "description_tooltip": null,
            "layout": "IPY_MODEL_08a056286b6044c686167aac9eaa429e",
            "max": 1,
            "min": 0,
            "orientation": "horizontal",
            "style": "IPY_MODEL_641f5e0da91b43e0ac14d6d9408c38d8",
            "value": 1
          }
        },
        "c1b8d00c017643c08ef5d979e3c02ee0": {
          "model_module": "@jupyter-widgets/base",
          "model_name": "LayoutModel",
          "model_module_version": "1.2.0",
          "state": {
            "_model_module": "@jupyter-widgets/base",
            "_model_module_version": "1.2.0",
            "_model_name": "LayoutModel",
            "_view_count": null,
            "_view_module": "@jupyter-widgets/base",
            "_view_module_version": "1.2.0",
            "_view_name": "LayoutView",
            "align_content": null,
            "align_items": null,
            "align_self": null,
            "border": null,
            "bottom": null,
            "display": null,
            "flex": null,
            "flex_flow": null,
            "grid_area": null,
            "grid_auto_columns": null,
            "grid_auto_flow": null,
            "grid_auto_rows": null,
            "grid_column": null,
            "grid_gap": null,
            "grid_row": null,
            "grid_template_areas": null,
            "grid_template_columns": null,
            "grid_template_rows": null,
            "height": null,
            "justify_content": null,
            "justify_items": null,
            "left": null,
            "margin": null,
            "max_height": null,
            "max_width": null,
            "min_height": null,
            "min_width": null,
            "object_fit": null,
            "object_position": null,
            "order": null,
            "overflow": null,
            "overflow_x": null,
            "overflow_y": null,
            "padding": null,
            "right": null,
            "top": null,
            "visibility": null,
            "width": null
          }
        },
        "bb18a5a601604fe785ff191a625b6e60": {
          "model_module": "@jupyter-widgets/base",
          "model_name": "LayoutModel",
          "model_module_version": "1.2.0",
          "state": {
            "_model_module": "@jupyter-widgets/base",
            "_model_module_version": "1.2.0",
            "_model_name": "LayoutModel",
            "_view_count": null,
            "_view_module": "@jupyter-widgets/base",
            "_view_module_version": "1.2.0",
            "_view_name": "LayoutView",
            "align_content": null,
            "align_items": null,
            "align_self": null,
            "border": null,
            "bottom": null,
            "display": null,
            "flex": null,
            "flex_flow": null,
            "grid_area": null,
            "grid_auto_columns": null,
            "grid_auto_flow": null,
            "grid_auto_rows": null,
            "grid_column": null,
            "grid_gap": null,
            "grid_row": null,
            "grid_template_areas": null,
            "grid_template_columns": null,
            "grid_template_rows": null,
            "height": null,
            "justify_content": null,
            "justify_items": null,
            "left": null,
            "margin": null,
            "max_height": null,
            "max_width": null,
            "min_height": null,
            "min_width": null,
            "object_fit": null,
            "object_position": null,
            "order": null,
            "overflow": null,
            "overflow_x": null,
            "overflow_y": null,
            "padding": null,
            "right": null,
            "top": null,
            "visibility": null,
            "width": null
          }
        },
        "9ef646bc41e64e5697999a4c42220491": {
          "model_module": "@jupyter-widgets/controls",
          "model_name": "DescriptionStyleModel",
          "model_module_version": "1.5.0",
          "state": {
            "_model_module": "@jupyter-widgets/controls",
            "_model_module_version": "1.5.0",
            "_model_name": "DescriptionStyleModel",
            "_view_count": null,
            "_view_module": "@jupyter-widgets/base",
            "_view_module_version": "1.2.0",
            "_view_name": "StyleView",
            "description_width": ""
          }
        },
        "08a056286b6044c686167aac9eaa429e": {
          "model_module": "@jupyter-widgets/base",
          "model_name": "LayoutModel",
          "model_module_version": "1.2.0",
          "state": {
            "_model_module": "@jupyter-widgets/base",
            "_model_module_version": "1.2.0",
            "_model_name": "LayoutModel",
            "_view_count": null,
            "_view_module": "@jupyter-widgets/base",
            "_view_module_version": "1.2.0",
            "_view_name": "LayoutView",
            "align_content": null,
            "align_items": null,
            "align_self": null,
            "border": null,
            "bottom": null,
            "display": null,
            "flex": null,
            "flex_flow": null,
            "grid_area": null,
            "grid_auto_columns": null,
            "grid_auto_flow": null,
            "grid_auto_rows": null,
            "grid_column": null,
            "grid_gap": null,
            "grid_row": null,
            "grid_template_areas": null,
            "grid_template_columns": null,
            "grid_template_rows": null,
            "height": null,
            "justify_content": null,
            "justify_items": null,
            "left": null,
            "margin": null,
            "max_height": null,
            "max_width": null,
            "min_height": null,
            "min_width": null,
            "object_fit": null,
            "object_position": null,
            "order": null,
            "overflow": null,
            "overflow_x": null,
            "overflow_y": null,
            "padding": null,
            "right": null,
            "top": null,
            "visibility": null,
            "width": null
          }
        },
        "641f5e0da91b43e0ac14d6d9408c38d8": {
          "model_module": "@jupyter-widgets/controls",
          "model_name": "ProgressStyleModel",
          "model_module_version": "1.5.0",
          "state": {
            "_model_module": "@jupyter-widgets/controls",
            "_model_module_version": "1.5.0",
            "_model_name": "ProgressStyleModel",
            "_view_count": null,
            "_view_module": "@jupyter-widgets/base",
            "_view_module_version": "1.2.0",
            "_view_name": "StyleView",
            "bar_color": null,
            "description_width": ""
          }
        }
      }
    }
  },
  "nbformat_minor": 0,
  "nbformat": 4,
  "cells": [
    {
      "cell_type": "markdown",
      "source": [
        "##installing libraries\n"
      ],
      "metadata": {
        "id": "V1hmXBHfzHxO"
      }
    },
    {
      "cell_type": "code",
      "source": [
        "!pip install transformers\n",
        "!pip install sklearn\n",
        "!pip install torch\n",
        "!pip install wandb -qqq\n"
      ],
      "metadata": {
        "colab": {
          "base_uri": "https://localhost:8080/"
        },
        "id": "3kxwn5e5yDHn",
        "outputId": "10df7d0e-88f8-4f9f-df03-33eff465f73b"
      },
      "execution_count": 1,
      "outputs": [
        {
          "output_type": "stream",
          "name": "stdout",
          "text": [
            "Looking in indexes: https://pypi.org/simple, https://us-python.pkg.dev/colab-wheels/public/simple/\n",
            "Requirement already satisfied: transformers in /usr/local/lib/python3.7/dist-packages (4.20.0)\n",
            "Requirement already satisfied: tqdm>=4.27 in /usr/local/lib/python3.7/dist-packages (from transformers) (4.64.0)\n",
            "Requirement already satisfied: numpy>=1.17 in /usr/local/lib/python3.7/dist-packages (from transformers) (1.21.6)\n",
            "Requirement already satisfied: huggingface-hub<1.0,>=0.1.0 in /usr/local/lib/python3.7/dist-packages (from transformers) (0.7.0)\n",
            "Requirement already satisfied: filelock in /usr/local/lib/python3.7/dist-packages (from transformers) (3.7.1)\n",
            "Requirement already satisfied: importlib-metadata in /usr/local/lib/python3.7/dist-packages (from transformers) (4.11.4)\n",
            "Requirement already satisfied: requests in /usr/local/lib/python3.7/dist-packages (from transformers) (2.23.0)\n",
            "Requirement already satisfied: tokenizers!=0.11.3,<0.13,>=0.11.1 in /usr/local/lib/python3.7/dist-packages (from transformers) (0.12.1)\n",
            "Requirement already satisfied: regex!=2019.12.17 in /usr/local/lib/python3.7/dist-packages (from transformers) (2022.6.2)\n",
            "Requirement already satisfied: pyyaml>=5.1 in /usr/local/lib/python3.7/dist-packages (from transformers) (6.0)\n",
            "Requirement already satisfied: packaging>=20.0 in /usr/local/lib/python3.7/dist-packages (from transformers) (21.3)\n",
            "Requirement already satisfied: typing-extensions>=3.7.4.3 in /usr/local/lib/python3.7/dist-packages (from huggingface-hub<1.0,>=0.1.0->transformers) (4.1.1)\n",
            "Requirement already satisfied: pyparsing!=3.0.5,>=2.0.2 in /usr/local/lib/python3.7/dist-packages (from packaging>=20.0->transformers) (3.0.9)\n",
            "Requirement already satisfied: zipp>=0.5 in /usr/local/lib/python3.7/dist-packages (from importlib-metadata->transformers) (3.8.0)\n",
            "Requirement already satisfied: certifi>=2017.4.17 in /usr/local/lib/python3.7/dist-packages (from requests->transformers) (2022.6.15)\n",
            "Requirement already satisfied: chardet<4,>=3.0.2 in /usr/local/lib/python3.7/dist-packages (from requests->transformers) (3.0.4)\n",
            "Requirement already satisfied: idna<3,>=2.5 in /usr/local/lib/python3.7/dist-packages (from requests->transformers) (2.10)\n",
            "Requirement already satisfied: urllib3!=1.25.0,!=1.25.1,<1.26,>=1.21.1 in /usr/local/lib/python3.7/dist-packages (from requests->transformers) (1.24.3)\n",
            "Looking in indexes: https://pypi.org/simple, https://us-python.pkg.dev/colab-wheels/public/simple/\n",
            "Requirement already satisfied: sklearn in /usr/local/lib/python3.7/dist-packages (0.0)\n",
            "Requirement already satisfied: scikit-learn in /usr/local/lib/python3.7/dist-packages (from sklearn) (1.0.2)\n",
            "Requirement already satisfied: joblib>=0.11 in /usr/local/lib/python3.7/dist-packages (from scikit-learn->sklearn) (1.1.0)\n",
            "Requirement already satisfied: numpy>=1.14.6 in /usr/local/lib/python3.7/dist-packages (from scikit-learn->sklearn) (1.21.6)\n",
            "Requirement already satisfied: scipy>=1.1.0 in /usr/local/lib/python3.7/dist-packages (from scikit-learn->sklearn) (1.4.1)\n",
            "Requirement already satisfied: threadpoolctl>=2.0.0 in /usr/local/lib/python3.7/dist-packages (from scikit-learn->sklearn) (3.1.0)\n",
            "Looking in indexes: https://pypi.org/simple, https://us-python.pkg.dev/colab-wheels/public/simple/\n",
            "Requirement already satisfied: torch in /usr/local/lib/python3.7/dist-packages (1.11.0+cu113)\n",
            "Requirement already satisfied: typing-extensions in /usr/local/lib/python3.7/dist-packages (from torch) (4.1.1)\n"
          ]
        }
      ]
    },
    {
      "cell_type": "markdown",
      "source": [
        "## importing the libraries"
      ],
      "metadata": {
        "id": "ZG5sFUuezOxl"
      }
    },
    {
      "cell_type": "code",
      "source": [
        "import pandas as pd\n",
        "import torch\n",
        "import numpy as np\n",
        "from sklearn.model_selection import train_test_split\n",
        "from transformers import BertTokenizer\n",
        "from torch import nn\n",
        "from transformers import BertModel\n",
        "import math\n",
        "from torch.optim import Adam\n",
        "from tqdm import tqdm\n",
        "import wandb"
      ],
      "metadata": {
        "_uuid": "8f2839f25d086af736a60e9eeb907d3b93b6e0e5",
        "_cell_guid": "b1076dfc-b9ad-4769-8c92-a6c4dae69d19",
        "execution": {
          "iopub.status.busy": "2022-06-15T16:13:50.016913Z",
          "iopub.execute_input": "2022-06-15T16:13:50.017343Z",
          "iopub.status.idle": "2022-06-15T16:13:56.697775Z",
          "shell.execute_reply.started": "2022-06-15T16:13:50.017292Z",
          "shell.execute_reply": "2022-06-15T16:13:56.696895Z"
        },
        "trusted": true,
        "id": "t_vASAinxsG0"
      },
      "execution_count": 2,
      "outputs": []
    },
    {
      "cell_type": "markdown",
      "source": [
        "## login and setting weights and bisas"
      ],
      "metadata": {
        "id": "vlAB_M0ezX7b"
      }
    },
    {
      "cell_type": "code",
      "source": [
        "wandb.login()"
      ],
      "metadata": {
        "execution": {
          "iopub.status.busy": "2022-06-15T16:14:32.743570Z",
          "iopub.execute_input": "2022-06-15T16:14:32.744152Z",
          "iopub.status.idle": "2022-06-15T16:14:42.707096Z",
          "shell.execute_reply.started": "2022-06-15T16:14:32.744110Z",
          "shell.execute_reply": "2022-06-15T16:14:42.706294Z"
        },
        "trusted": true,
        "id": "se5tY66QxsG3",
        "colab": {
          "base_uri": "https://localhost:8080/"
        },
        "outputId": "5a7c0e18-08f6-4170-a551-843ed98beb6e"
      },
      "execution_count": 3,
      "outputs": [
        {
          "output_type": "stream",
          "name": "stderr",
          "text": [
            "\u001b[34m\u001b[1mwandb\u001b[0m: Currently logged in as: \u001b[33mamit1541541\u001b[0m. Use \u001b[1m`wandb login --relogin`\u001b[0m to force relogin\n"
          ]
        },
        {
          "output_type": "execute_result",
          "data": {
            "text/plain": [
              "True"
            ]
          },
          "metadata": {},
          "execution_count": 3
        }
      ]
    },
    {
      "cell_type": "code",
      "source": [
        "def wand_set(lr,epochs):\n",
        "    wandb.init(\n",
        "          # Set the project where this run will be logged\n",
        "          project=\"bert\", \n",
        "          # We pass a run name (otherwise it’ll be randomly assigned, like sunshine-lollypop-10)\n",
        "          name=f\"experiment_1\", \n",
        "          # Track hyperparameters and run metadata\n",
        "          config={\n",
        "          \"learning_rate\":lr,\n",
        "          \"architecture\": \"Transformer\",\n",
        "          \"dataset\": \"Peer Read\",\n",
        "          \"epochs\": epochs,\n",
        "          })"
      ],
      "metadata": {
        "execution": {
          "iopub.status.busy": "2022-06-15T16:17:07.569202Z",
          "iopub.execute_input": "2022-06-15T16:17:07.569591Z",
          "iopub.status.idle": "2022-06-15T16:17:07.574921Z",
          "shell.execute_reply.started": "2022-06-15T16:17:07.569556Z",
          "shell.execute_reply": "2022-06-15T16:17:07.574113Z"
        },
        "trusted": true,
        "id": "a6FPdiOYxsG8"
      },
      "execution_count": 4,
      "outputs": []
    },
    {
      "cell_type": "markdown",
      "source": [
        "## setting data set"
      ],
      "metadata": {
        "id": "NyvYt153ziBz"
      }
    },
    {
      "cell_type": "markdown",
      "source": [
        "we normelized the Recomndation score between 0-1"
      ],
      "metadata": {
        "id": "U3kt6ahNKjpU"
      }
    },
    {
      "cell_type": "code",
      "source": [
        "df = pd.read_csv(\"/content/data.csv\")\n",
        "df = df.dropna(subset=['comments','RECOMMENDATION'])\n",
        "df['RECOMMENDATION'] = df['RECOMMENDATION'].astype('int')\n",
        "df['RECOMMENDATION'] = df['RECOMMENDATION']-1\n",
        "df['output'] = df['RECOMMENDATION'] / 10\n",
        "df['output'] = df['output'].astype('float32')"
      ],
      "metadata": {
        "execution": {
          "iopub.status.busy": "2022-06-15T16:14:42.708194Z",
          "iopub.execute_input": "2022-06-15T16:14:42.708569Z",
          "iopub.status.idle": "2022-06-15T16:14:42.956127Z",
          "shell.execute_reply.started": "2022-06-15T16:14:42.708541Z",
          "shell.execute_reply": "2022-06-15T16:14:42.955142Z"
        },
        "trusted": true,
        "id": "WwlIY5qPxsG4"
      },
      "execution_count": 5,
      "outputs": []
    },
    {
      "cell_type": "code",
      "source": [
        "def split_data(df):\n",
        "    np.random.seed(112)\n",
        "    df_train, df_val, df_test = np.split(df.sample(frac=1, random_state=42), \n",
        "                                         [int(.8*len(df)), int(.9*len(df))])\n",
        "    return df_train, df_val, df_test"
      ],
      "metadata": {
        "execution": {
          "iopub.status.busy": "2022-06-15T16:15:31.813471Z",
          "iopub.execute_input": "2022-06-15T16:15:31.813842Z",
          "iopub.status.idle": "2022-06-15T16:15:31.819210Z",
          "shell.execute_reply.started": "2022-06-15T16:15:31.813812Z",
          "shell.execute_reply": "2022-06-15T16:15:31.818338Z"
        },
        "trusted": true,
        "id": "4Wtjufr6xsG6"
      },
      "execution_count": 6,
      "outputs": []
    },
    {
      "cell_type": "code",
      "source": [
        "df_train, df_val, df_test = split_data(df)\n"
      ],
      "metadata": {
        "execution": {
          "iopub.status.busy": "2022-06-15T16:16:03.863785Z",
          "iopub.execute_input": "2022-06-15T16:16:03.864592Z",
          "iopub.status.idle": "2022-06-15T16:16:03.874244Z",
          "shell.execute_reply.started": "2022-06-15T16:16:03.864555Z",
          "shell.execute_reply": "2022-06-15T16:16:03.873388Z"
        },
        "trusted": true,
        "id": "yHneIzQWxsG6"
      },
      "execution_count": 7,
      "outputs": []
    },
    {
      "cell_type": "markdown",
      "source": [
        "##setting bert tokenizer"
      ],
      "metadata": {
        "id": "4YdBI9Cj0LOq"
      }
    },
    {
      "cell_type": "code",
      "source": [
        "tokenizer = BertTokenizer.from_pretrained('bert-base-cased')"
      ],
      "metadata": {
        "execution": {
          "iopub.status.busy": "2022-06-15T16:14:47.170142Z",
          "iopub.execute_input": "2022-06-15T16:14:47.170743Z",
          "iopub.status.idle": "2022-06-15T16:14:50.255874Z",
          "shell.execute_reply.started": "2022-06-15T16:14:47.170704Z",
          "shell.execute_reply": "2022-06-15T16:14:50.255059Z"
        },
        "trusted": true,
        "id": "m41ezgddxsG5"
      },
      "execution_count": 8,
      "outputs": []
    },
    {
      "cell_type": "markdown",
      "source": [
        "## torch Dataset class and model architecture"
      ],
      "metadata": {
        "id": "qI9kzRO70QUj"
      }
    },
    {
      "cell_type": "code",
      "source": [
        "class Dataset(torch.utils.data.Dataset):\n",
        "\n",
        "    def __init__(self, df):\n",
        "\n",
        "        self.labels = [label for label in df['output']]\n",
        "        self.texts = [tokenizer(text, \n",
        "                               padding='max_length', max_length = 512, truncation=True,\n",
        "                                return_tensors=\"pt\") for text in df['comments']]\n",
        "    def classes(self):\n",
        "        return self.labels\n",
        "\n",
        "    def __len__(self):\n",
        "        return len(self.labels)\n",
        "\n",
        "    def get_batch_labels(self, idx):\n",
        "        # Fetch a batch of labels\n",
        "        return np.array(self.labels[idx])\n",
        "\n",
        "    def get_batch_texts(self, idx):\n",
        "        # Fetch a batch of inputs\n",
        "        return self.texts[idx]\n",
        "\n",
        "    def __getitem__(self, idx):\n",
        "\n",
        "        batch_texts = self.get_batch_texts(idx)\n",
        "        batch_y = self.get_batch_labels(idx)\n",
        "\n",
        "        return batch_texts, batch_y"
      ],
      "metadata": {
        "execution": {
          "iopub.status.busy": "2022-06-15T16:14:50.257717Z",
          "iopub.execute_input": "2022-06-15T16:14:50.258112Z",
          "iopub.status.idle": "2022-06-15T16:14:50.267040Z",
          "shell.execute_reply.started": "2022-06-15T16:14:50.258073Z",
          "shell.execute_reply": "2022-06-15T16:14:50.265851Z"
        },
        "trusted": true,
        "id": "Kn9KInu9xsG5"
      },
      "execution_count": 9,
      "outputs": []
    },
    {
      "cell_type": "markdown",
      "source": [
        "the model architecture we chose is a bert follwing by one hiden layer with 10 nureouns to one output neuron with Relu activation"
      ],
      "metadata": {
        "id": "rZrZIDXr0bJG"
      }
    },
    {
      "cell_type": "code",
      "source": [
        "class BertClassifier(nn.Module):\n",
        "\n",
        "    def __init__(self, dropout=0.5):\n",
        "\n",
        "        super(BertClassifier, self).__init__()\n",
        "\n",
        "        self.bert = BertModel.from_pretrained('bert-base-cased')\n",
        "        self.dropout = nn.Dropout(dropout)\n",
        "        self.linear = nn.Linear(768, 1)\n",
        "        self.relu = nn.ReLU()\n",
        "\n",
        "    def forward(self, input_id, mask):\n",
        "        _, pooled_output = self.bert(input_ids= input_id, attention_mask=mask,return_dict=False)\n",
        "        dropout_output = self.dropout(pooled_output)\n",
        "        linear_output = self.linear(dropout_output)\n",
        "        final_layer = self.relu(linear_output)\n",
        "        return final_layer"
      ],
      "metadata": {
        "execution": {
          "iopub.status.busy": "2022-06-15T16:15:45.814412Z",
          "iopub.execute_input": "2022-06-15T16:15:45.814910Z",
          "iopub.status.idle": "2022-06-15T16:15:45.824533Z",
          "shell.execute_reply.started": "2022-06-15T16:15:45.814864Z",
          "shell.execute_reply": "2022-06-15T16:15:45.823675Z"
        },
        "trusted": true,
        "id": "XzIlaUotxsG7"
      },
      "execution_count": 10,
      "outputs": []
    },
    {
      "cell_type": "markdown",
      "source": [
        "## setting train and validation dataloaders to the teacher model\n"
      ],
      "metadata": {
        "id": "AC8poRjwF11w"
      }
    },
    {
      "cell_type": "code",
      "source": [
        "train, val = Dataset(df_train), Dataset(df_val)\n",
        "\n",
        "train_dataloader = torch.utils.data.DataLoader(train, batch_size=24, shuffle=True)\n",
        "val_dataloader = torch.utils.data.DataLoader(val, batch_size=24)"
      ],
      "metadata": {
        "execution": {
          "iopub.status.busy": "2022-06-15T16:16:42.657650Z",
          "iopub.execute_input": "2022-06-15T16:16:42.657997Z",
          "iopub.status.idle": "2022-06-15T16:17:07.567495Z",
          "shell.execute_reply.started": "2022-06-15T16:16:42.657968Z",
          "shell.execute_reply": "2022-06-15T16:17:07.566684Z"
        },
        "trusted": true,
        "id": "KDJITDgbxsG7"
      },
      "execution_count": 11,
      "outputs": []
    },
    {
      "cell_type": "markdown",
      "source": [
        "##train function for the models"
      ],
      "metadata": {
        "id": "0N-cTP-3G7o7"
      }
    },
    {
      "cell_type": "markdown",
      "source": [
        "we used MSE for the loss function and Adam optimizer"
      ],
      "metadata": {
        "id": "KtHyJr7SHFlt"
      }
    },
    {
      "cell_type": "code",
      "source": [
        "def train(model, train_dataloader, val_dataloader, learning_rate, epochs,batch_size=24):\n",
        "    wand_set(learning_rate,epochs)\n",
        "    use_cuda = torch.cuda.is_available()\n",
        "    device = torch.device(\"cuda\" if use_cuda else \"cpu\")\n",
        "\n",
        "    criterion = nn.MSELoss()\n",
        "    optimizer = Adam(model.parameters(), lr= learning_rate)\n",
        "\n",
        "    if use_cuda:\n",
        "            model = model.cuda()\n",
        "            criterion = criterion.cuda()\n",
        "\n",
        "    for epoch_num in range(epochs): \n",
        "        total_loss_train = 0\n",
        "        iteration = 1\n",
        "        for train_input, train_label in tqdm(train_dataloader):\n",
        "            train_label = train_label.to(device)\n",
        "            mask = train_input['attention_mask'].to(device)\n",
        "            input_id = train_input['input_ids'].squeeze(1).to(device)\n",
        "\n",
        "            output = model(input_id, mask)\n",
        "            output = torch.flatten(output).to(torch.float32)\n",
        "            train_label = train_label.to(torch.float32)\n",
        "            batch_loss = criterion(output, train_label)\n",
        "            total_loss_train += batch_loss.item()\n",
        "            model.zero_grad()\n",
        "            batch_loss.backward()\n",
        "            optimizer.step()\n",
        "            if iteration%10 == 0:\n",
        "                wandb.log({\"Train Loss\": (total_loss_train/iteration)/batch_size})\n",
        "            iteration += 1\n",
        "            \n",
        "        total_loss_val = 0\n",
        "        with torch.no_grad():\n",
        "            iteration = 1\n",
        "            for val_input, val_label in val_dataloader:\n",
        "                val_label = val_label.to(device)\n",
        "                mask = val_input['attention_mask'].to(device)\n",
        "                input_id = val_input['input_ids'].squeeze(1).to(device)\n",
        "                output = model(input_id, mask)\n",
        "                output = torch.flatten(output).to(torch.float32)\n",
        "                val_label = val_label.to(torch.float32)\n",
        "                batch_loss = criterion(output, val_label)\n",
        "                total_loss_val += batch_loss.item()\n",
        "                if iteration%10 == 0:\n",
        "                    wandb.log({\"Val loss\": (total_loss_train/iteration)/batch_size})\n",
        "                iteration+=1\n",
        "                \n",
        "        Train_loss = total_loss_train / len(df_train)\n",
        "        Val_loss = total_loss_val / len(df_val)\n",
        "        print(\n",
        "            f'Epochs: {epoch_num + 1} | Train Loss: {Train_loss} \\\n",
        "            | Val Loss: {Val_loss}')\n",
        "        wandb.log({\"epoch_train loss\": Train_loss, \"epoch_val loss\": Val_loss})\n",
        "    wandb.finish()\n",
        "            "
      ],
      "metadata": {
        "execution": {
          "iopub.status.busy": "2022-06-15T16:17:39.167880Z",
          "iopub.execute_input": "2022-06-15T16:17:39.168232Z",
          "iopub.status.idle": "2022-06-15T16:17:39.195783Z",
          "shell.execute_reply.started": "2022-06-15T16:17:39.168202Z",
          "shell.execute_reply": "2022-06-15T16:17:39.194154Z"
        },
        "trusted": true,
        "id": "oQFoABV_xsG8"
      },
      "execution_count": 12,
      "outputs": []
    },
    {
      "cell_type": "markdown",
      "source": [
        "##training the teacher model"
      ],
      "metadata": {
        "id": "6MNCcShSKQjG"
      }
    },
    {
      "cell_type": "code",
      "source": [
        "teacher_model = BertClassifier()"
      ],
      "metadata": {
        "execution": {
          "iopub.status.busy": "2022-06-15T16:17:07.594879Z",
          "iopub.execute_input": "2022-06-15T16:17:07.595306Z",
          "iopub.status.idle": "2022-06-15T16:17:29.537114Z",
          "shell.execute_reply.started": "2022-06-15T16:17:07.595270Z",
          "shell.execute_reply": "2022-06-15T16:17:29.536220Z"
        },
        "trusted": true,
        "id": "a9T4Mp9jxsG9",
        "colab": {
          "base_uri": "https://localhost:8080/"
        },
        "outputId": "3b23a669-9d16-455f-c460-c93cb5df6c98"
      },
      "execution_count": 13,
      "outputs": [
        {
          "output_type": "stream",
          "name": "stderr",
          "text": [
            "Some weights of the model checkpoint at bert-base-cased were not used when initializing BertModel: ['cls.predictions.bias', 'cls.seq_relationship.bias', 'cls.predictions.transform.LayerNorm.weight', 'cls.seq_relationship.weight', 'cls.predictions.transform.dense.bias', 'cls.predictions.decoder.weight', 'cls.predictions.transform.LayerNorm.bias', 'cls.predictions.transform.dense.weight']\n",
            "- This IS expected if you are initializing BertModel from the checkpoint of a model trained on another task or with another architecture (e.g. initializing a BertForSequenceClassification model from a BertForPreTraining model).\n",
            "- This IS NOT expected if you are initializing BertModel from the checkpoint of a model that you expect to be exactly identical (initializing a BertForSequenceClassification model from a BertForSequenceClassification model).\n"
          ]
        }
      ]
    },
    {
      "cell_type": "code",
      "source": [
        "EPOCHS = 25\n",
        "LR = 1e-6\n",
        "              \n",
        "train(teacher_model, train_dataloader, val_dataloader, LR, EPOCHS)"
      ],
      "metadata": {
        "execution": {
          "iopub.status.busy": "2022-06-15T12:21:05.013666Z",
          "iopub.execute_input": "2022-06-15T12:21:05.014379Z",
          "iopub.status.idle": "2022-06-15T13:05:15.634375Z",
          "shell.execute_reply.started": "2022-06-15T12:21:05.014336Z",
          "shell.execute_reply": "2022-06-15T13:05:15.633458Z"
        },
        "trusted": true,
        "id": "rsDmAWfFxsG-",
        "colab": {
          "base_uri": "https://localhost:8080/",
          "height": 1000,
          "referenced_widgets": [
            "885d73e8723c436bbe93be8c7fe3b2a9",
            "fff6f2fc8f734d03a46816390b1de7ba",
            "b2051948b7284bc28b99dd5256d56fd2",
            "9834acf03be44ffb9abeef344b0dfc6a",
            "ade0d4eae84e49f2a161361762ddd911",
            "33f2be9f5ec947d09fd97b2d27b775d4",
            "9952b99fafdd4d7699de91e979259d81",
            "e97c4781e80d46ffb5cb6edfb0433626"
          ]
        },
        "outputId": "1c67a90e-da98-4efa-e840-a2fd19799f31"
      },
      "execution_count": 14,
      "outputs": [
        {
          "data": {
            "text/html": [
              "Tracking run with wandb version 0.12.18"
            ],
            "text/plain": [
              "<IPython.core.display.HTML object>"
            ]
          },
          "metadata": {},
          "output_type": "display_data"
        },
        {
          "data": {
            "text/html": [
              "Run data is saved locally in <code>/content/wandb/run-20220617_193409-1nmce6po</code>"
            ],
            "text/plain": [
              "<IPython.core.display.HTML object>"
            ]
          },
          "metadata": {},
          "output_type": "display_data"
        },
        {
          "data": {
            "text/html": [
              "Syncing run <strong><a href=\"https://wandb.ai/amit1541541/bert/runs/1nmce6po\" target=\"_blank\">experiment_1</a></strong> to <a href=\"https://wandb.ai/amit1541541/bert\" target=\"_blank\">Weights & Biases</a> (<a href=\"https://wandb.me/run\" target=\"_blank\">docs</a>)<br/>"
            ],
            "text/plain": [
              "<IPython.core.display.HTML object>"
            ]
          },
          "metadata": {},
          "output_type": "display_data"
        },
        {
          "metadata": {
            "tags": null
          },
          "name": "stderr",
          "output_type": "stream",
          "text": [
            "100%|██████████| 99/99 [03:19<00:00,  2.02s/it]\n"
          ]
        },
        {
          "metadata": {
            "tags": null
          },
          "name": "stdout",
          "output_type": "stream",
          "text": [
            "Epochs: 1 | Train Loss: 0.006445492858889745             | Val Loss: 0.006365585140883923\n"
          ]
        },
        {
          "metadata": {
            "tags": null
          },
          "name": "stderr",
          "output_type": "stream",
          "text": [
            "100%|██████████| 99/99 [03:25<00:00,  2.08s/it]\n"
          ]
        },
        {
          "metadata": {
            "tags": null
          },
          "name": "stdout",
          "output_type": "stream",
          "text": [
            "Epochs: 2 | Train Loss: 0.004674546237776526             | Val Loss: 0.004040326923131943\n"
          ]
        },
        {
          "metadata": {
            "tags": null
          },
          "name": "stderr",
          "output_type": "stream",
          "text": [
            "100%|██████████| 99/99 [03:27<00:00,  2.09s/it]\n"
          ]
        },
        {
          "metadata": {
            "tags": null
          },
          "name": "stdout",
          "output_type": "stream",
          "text": [
            "Epochs: 3 | Train Loss: 0.0032374664192448815             | Val Loss: 0.0026453021485861893\n"
          ]
        },
        {
          "metadata": {
            "tags": null
          },
          "name": "stderr",
          "output_type": "stream",
          "text": [
            "100%|██████████| 99/99 [03:27<00:00,  2.10s/it]\n"
          ]
        },
        {
          "metadata": {
            "tags": null
          },
          "name": "stdout",
          "output_type": "stream",
          "text": [
            "Epochs: 4 | Train Loss: 0.0020424843664941347             | Val Loss: 0.002270600273953499\n"
          ]
        },
        {
          "metadata": {
            "tags": null
          },
          "name": "stderr",
          "output_type": "stream",
          "text": [
            "100%|██████████| 99/99 [03:27<00:00,  2.09s/it]\n"
          ]
        },
        {
          "metadata": {
            "tags": null
          },
          "name": "stdout",
          "output_type": "stream",
          "text": [
            "Epochs: 5 | Train Loss: 0.0017668467579179407             | Val Loss: 0.002127610159584799\n"
          ]
        },
        {
          "metadata": {
            "tags": null
          },
          "name": "stderr",
          "output_type": "stream",
          "text": [
            "100%|██████████| 99/99 [03:27<00:00,  2.09s/it]\n"
          ]
        },
        {
          "metadata": {
            "tags": null
          },
          "name": "stdout",
          "output_type": "stream",
          "text": [
            "Epochs: 6 | Train Loss: 0.0016054324916045476             | Val Loss: 0.001718488005870903\n"
          ]
        },
        {
          "metadata": {
            "tags": null
          },
          "name": "stderr",
          "output_type": "stream",
          "text": [
            "100%|██████████| 99/99 [03:27<00:00,  2.09s/it]\n"
          ]
        },
        {
          "metadata": {
            "tags": null
          },
          "name": "stdout",
          "output_type": "stream",
          "text": [
            "Epochs: 7 | Train Loss: 0.0015603486730602085             | Val Loss: 0.0018980523722397316\n"
          ]
        },
        {
          "metadata": {
            "tags": null
          },
          "name": "stderr",
          "output_type": "stream",
          "text": [
            "100%|██████████| 99/99 [03:27<00:00,  2.09s/it]\n"
          ]
        },
        {
          "metadata": {
            "tags": null
          },
          "name": "stdout",
          "output_type": "stream",
          "text": [
            "Epochs: 8 | Train Loss: 0.0014369147451509376             | Val Loss: 0.0019105787930154318\n"
          ]
        },
        {
          "metadata": {
            "tags": null
          },
          "name": "stderr",
          "output_type": "stream",
          "text": [
            "100%|██████████| 99/99 [03:26<00:00,  2.09s/it]\n"
          ]
        },
        {
          "metadata": {
            "tags": null
          },
          "name": "stdout",
          "output_type": "stream",
          "text": [
            "Epochs: 9 | Train Loss: 0.0013569856177567932             | Val Loss: 0.0016966653685714748\n"
          ]
        },
        {
          "metadata": {
            "tags": null
          },
          "name": "stderr",
          "output_type": "stream",
          "text": [
            "100%|██████████| 99/99 [03:26<00:00,  2.09s/it]\n"
          ]
        },
        {
          "metadata": {
            "tags": null
          },
          "name": "stdout",
          "output_type": "stream",
          "text": [
            "Epochs: 10 | Train Loss: 0.0012964958473945481             | Val Loss: 0.0014446067774819362\n"
          ]
        },
        {
          "metadata": {
            "tags": null
          },
          "name": "stderr",
          "output_type": "stream",
          "text": [
            "100%|██████████| 99/99 [03:26<00:00,  2.09s/it]\n"
          ]
        },
        {
          "metadata": {
            "tags": null
          },
          "name": "stdout",
          "output_type": "stream",
          "text": [
            "Epochs: 11 | Train Loss: 0.0012298281767047854             | Val Loss: 0.001487923609847958\n"
          ]
        },
        {
          "metadata": {
            "tags": null
          },
          "name": "stderr",
          "output_type": "stream",
          "text": [
            "100%|██████████| 99/99 [03:27<00:00,  2.09s/it]\n"
          ]
        },
        {
          "metadata": {
            "tags": null
          },
          "name": "stdout",
          "output_type": "stream",
          "text": [
            "Epochs: 12 | Train Loss: 0.0011539469479367314             | Val Loss: 0.001528152887633926\n"
          ]
        },
        {
          "metadata": {
            "tags": null
          },
          "name": "stderr",
          "output_type": "stream",
          "text": [
            "100%|██████████| 99/99 [03:27<00:00,  2.09s/it]\n"
          ]
        },
        {
          "metadata": {
            "tags": null
          },
          "name": "stdout",
          "output_type": "stream",
          "text": [
            "Epochs: 13 | Train Loss: 0.0010779391282416137             | Val Loss: 0.0013824749070949652\n"
          ]
        },
        {
          "metadata": {
            "tags": null
          },
          "name": "stderr",
          "output_type": "stream",
          "text": [
            "100%|██████████| 99/99 [03:27<00:00,  2.09s/it]\n"
          ]
        },
        {
          "metadata": {
            "tags": null
          },
          "name": "stdout",
          "output_type": "stream",
          "text": [
            "Epochs: 14 | Train Loss: 0.000962306152833799             | Val Loss: 0.0013519412573628328\n"
          ]
        },
        {
          "metadata": {
            "tags": null
          },
          "name": "stderr",
          "output_type": "stream",
          "text": [
            "100%|██████████| 99/99 [03:26<00:00,  2.09s/it]\n"
          ]
        },
        {
          "metadata": {
            "tags": null
          },
          "name": "stdout",
          "output_type": "stream",
          "text": [
            "Epochs: 15 | Train Loss: 0.0009201164077652237             | Val Loss: 0.0011894042364548186\n"
          ]
        },
        {
          "metadata": {
            "tags": null
          },
          "name": "stderr",
          "output_type": "stream",
          "text": [
            "100%|██████████| 99/99 [03:26<00:00,  2.09s/it]\n"
          ]
        },
        {
          "metadata": {
            "tags": null
          },
          "name": "stdout",
          "output_type": "stream",
          "text": [
            "Epochs: 16 | Train Loss: 0.0008308105154968357             | Val Loss: 0.001235882455885813\n"
          ]
        },
        {
          "output_type": "stream",
          "name": "stderr",
          "text": [
            "100%|██████████| 99/99 [03:26<00:00,  2.09s/it]\n"
          ]
        },
        {
          "output_type": "stream",
          "name": "stdout",
          "text": [
            "Epochs: 17 | Train Loss: 0.0007843216286275643             | Val Loss: 0.001154135214164853\n"
          ]
        },
        {
          "output_type": "stream",
          "name": "stderr",
          "text": [
            "100%|██████████| 99/99 [03:26<00:00,  2.09s/it]\n"
          ]
        },
        {
          "output_type": "stream",
          "name": "stdout",
          "text": [
            "Epochs: 18 | Train Loss: 0.0007110772039441868             | Val Loss: 0.0011354490762224068\n"
          ]
        },
        {
          "output_type": "stream",
          "name": "stderr",
          "text": [
            "100%|██████████| 99/99 [03:26<00:00,  2.09s/it]\n"
          ]
        },
        {
          "output_type": "stream",
          "name": "stdout",
          "text": [
            "Epochs: 19 | Train Loss: 0.0006435941934330285             | Val Loss: 0.0009343015797738288\n"
          ]
        },
        {
          "output_type": "stream",
          "name": "stderr",
          "text": [
            "100%|██████████| 99/99 [03:26<00:00,  2.09s/it]\n"
          ]
        },
        {
          "output_type": "stream",
          "name": "stdout",
          "text": [
            "Epochs: 20 | Train Loss: 0.0006124439065040494             | Val Loss: 0.0009346026297960732\n"
          ]
        },
        {
          "output_type": "stream",
          "name": "stderr",
          "text": [
            "100%|██████████| 99/99 [03:26<00:00,  2.09s/it]\n"
          ]
        },
        {
          "output_type": "stream",
          "name": "stdout",
          "text": [
            "Epochs: 21 | Train Loss: 0.0005928786529004322             | Val Loss: 0.0009458814212750341\n"
          ]
        },
        {
          "output_type": "stream",
          "name": "stderr",
          "text": [
            "100%|██████████| 99/99 [03:26<00:00,  2.09s/it]\n"
          ]
        },
        {
          "output_type": "stream",
          "name": "stdout",
          "text": [
            "Epochs: 22 | Train Loss: 0.0005411873354896424             | Val Loss: 0.0009535206764986789\n"
          ]
        },
        {
          "output_type": "stream",
          "name": "stderr",
          "text": [
            "100%|██████████| 99/99 [03:27<00:00,  2.09s/it]\n"
          ]
        },
        {
          "output_type": "stream",
          "name": "stdout",
          "text": [
            "Epochs: 23 | Train Loss: 0.00047686558205779333             | Val Loss: 0.0009198472803659939\n"
          ]
        },
        {
          "output_type": "stream",
          "name": "stderr",
          "text": [
            "100%|██████████| 99/99 [03:26<00:00,  2.09s/it]\n"
          ]
        },
        {
          "output_type": "stream",
          "name": "stdout",
          "text": [
            "Epochs: 24 | Train Loss: 0.00041536905849273687             | Val Loss: 0.0008179282649999132\n"
          ]
        },
        {
          "output_type": "stream",
          "name": "stderr",
          "text": [
            "100%|██████████| 99/99 [03:26<00:00,  2.09s/it]\n"
          ]
        },
        {
          "output_type": "stream",
          "name": "stdout",
          "text": [
            "Epochs: 25 | Train Loss: 0.0003828140201800315             | Val Loss: 0.0008652538086312848\n"
          ]
        },
        {
          "output_type": "display_data",
          "data": {
            "text/plain": [
              "<IPython.core.display.HTML object>"
            ],
            "text/html": [
              "Waiting for W&B process to finish... <strong style=\"color:green\">(success).</strong>"
            ]
          },
          "metadata": {}
        },
        {
          "output_type": "display_data",
          "data": {
            "text/plain": [
              "VBox(children=(Label(value='0.001 MB of 0.001 MB uploaded (0.000 MB deduped)\\r'), FloatProgress(value=1.0, max…"
            ],
            "application/vnd.jupyter.widget-view+json": {
              "version_major": 2,
              "version_minor": 0,
              "model_id": "885d73e8723c436bbe93be8c7fe3b2a9"
            }
          },
          "metadata": {}
        },
        {
          "output_type": "display_data",
          "data": {
            "text/plain": [
              "<IPython.core.display.HTML object>"
            ],
            "text/html": [
              "<style>\n",
              "    table.wandb td:nth-child(1) { padding: 0 10px; text-align: left ; width: auto;} td:nth-child(2) {text-align: left ; width: 100%}\n",
              "    .wandb-row { display: flex; flex-direction: row; flex-wrap: wrap; justify-content: flex-start; width: 100% }\n",
              "    .wandb-col { display: flex; flex-direction: column; flex-basis: 100%; flex: 1; padding: 10px; }\n",
              "    </style>\n",
              "<div class=\"wandb-row\"><div class=\"wandb-col\"><h3>Run history:</h3><br/><table class=\"wandb\"><tr><td>Train Loss</td><td>██▆▅▄▃▃▂▂▂▂▂▂▂▂▂▂▂▂▂▂▂▂▂▂▁▁▁▁▁▁▁▁▁▁▁▁▁▁▁</td></tr><tr><td>Val loss</td><td>█▆▄▃▃▂▂▂▂▂▂▂▂▂▂▂▁▁▁▁▁▁▁▁▁</td></tr><tr><td>epoch_train loss</td><td>█▆▄▃▃▂▂▂▂▂▂▂▂▂▂▂▁▁▁▁▁▁▁▁▁</td></tr><tr><td>epoch_val loss</td><td>█▅▃▃▃▂▂▂▂▂▂▂▂▂▁▂▁▁▁▁▁▁▁▁▁</td></tr></table><br/></div><div class=\"wandb-col\"><h3>Run summary:</h3><br/><table class=\"wandb\"><tr><td>Train Loss</td><td>0.00039</td></tr><tr><td>Val loss</td><td>0.00377</td></tr><tr><td>epoch_train loss</td><td>0.00038</td></tr><tr><td>epoch_val loss</td><td>0.00087</td></tr></table><br/></div></div>"
            ]
          },
          "metadata": {}
        },
        {
          "output_type": "display_data",
          "data": {
            "text/plain": [
              "<IPython.core.display.HTML object>"
            ],
            "text/html": [
              "Synced <strong style=\"color:#cdcd00\">experiment_1</strong>: <a href=\"https://wandb.ai/amit1541541/bert/runs/1nmce6po\" target=\"_blank\">https://wandb.ai/amit1541541/bert/runs/1nmce6po</a><br/>Synced 5 W&B file(s), 0 media file(s), 0 artifact file(s) and 0 other file(s)"
            ]
          },
          "metadata": {}
        },
        {
          "output_type": "display_data",
          "data": {
            "text/plain": [
              "<IPython.core.display.HTML object>"
            ],
            "text/html": [
              "Find logs at: <code>./wandb/run-20220617_193409-1nmce6po/logs</code>"
            ]
          },
          "metadata": {}
        }
      ]
    },
    {
      "cell_type": "markdown",
      "source": [
        "## Setting the data for the student model"
      ],
      "metadata": {
        "id": "CFbSq7JPKWbb"
      }
    },
    {
      "cell_type": "code",
      "source": [
        "def get_pseudo_labels(model, dataloader):\n",
        "    outputs = []\n",
        "    use_cuda = torch.cuda.is_available()\n",
        "    device = torch.device(\"cuda\" if use_cuda else \"cpu\")\n",
        "\n",
        "    \n",
        "    if use_cuda:\n",
        "        model = model.cuda()\n",
        "        with torch.no_grad():\n",
        "            for test_input, test_label in tqdm(dataloader):\n",
        "                mask = test_input['attention_mask'].to(device)\n",
        "                input_id = test_input['input_ids'].squeeze(1).to(device)\n",
        "                output = model(input_id, mask)\n",
        "                for i in range(30):\n",
        "                    try:\n",
        "                        outputs.append(output[i])\n",
        "                    except:\n",
        "                        pass\n",
        "    outputs = [float(i) for i in outputs]\n",
        "    return outputs\n"
      ],
      "metadata": {
        "execution": {
          "iopub.status.busy": "2022-06-15T16:18:06.862434Z",
          "iopub.execute_input": "2022-06-15T16:18:06.862799Z",
          "iopub.status.idle": "2022-06-15T16:18:06.870829Z",
          "shell.execute_reply.started": "2022-06-15T16:18:06.862768Z",
          "shell.execute_reply": "2022-06-15T16:18:06.869801Z"
        },
        "trusted": true,
        "id": "NqdWG39zxsG-"
      },
      "execution_count": 15,
      "outputs": []
    },
    {
      "cell_type": "code",
      "source": [
        "df_psudo = pd.read_csv(\"/content/data.csv\")\n",
        "df_psudo = df_psudo.dropna(subset=['comments'])\n",
        "df_psudo['RECOMMENDATION'] = df_psudo['RECOMMENDATION']-1\n",
        "df_psudo['output'] = df_psudo['RECOMMENDATION'] / 10\n",
        "df_psudo['output'] = df_psudo['output'].astype('float32')"
      ],
      "metadata": {
        "execution": {
          "iopub.status.busy": "2022-06-15T13:05:46.706311Z",
          "iopub.execute_input": "2022-06-15T13:05:46.706663Z",
          "iopub.status.idle": "2022-06-15T13:05:46.837234Z",
          "shell.execute_reply.started": "2022-06-15T13:05:46.706633Z",
          "shell.execute_reply": "2022-06-15T13:05:46.835931Z"
        },
        "trusted": true,
        "id": "Xh8I9cYZxsG_"
      },
      "execution_count": 16,
      "outputs": []
    },
    {
      "cell_type": "code",
      "source": [
        "data = Dataset(df_psudo)\n",
        "dataloader = torch.utils.data.DataLoader(data, batch_size=24, shuffle=True)\n",
        "outputs = get_pseudo_labels(teacher_model, dataloader)\n",
        "df_psudo['psudo'] =  outputs"
      ],
      "metadata": {
        "execution": {
          "iopub.status.busy": "2022-06-15T13:05:49.128132Z",
          "iopub.execute_input": "2022-06-15T13:05:49.128493Z",
          "iopub.status.idle": "2022-06-15T13:08:11.593013Z",
          "shell.execute_reply.started": "2022-06-15T13:05:49.128462Z",
          "shell.execute_reply": "2022-06-15T13:08:11.592071Z"
        },
        "trusted": true,
        "id": "dCZ_GVorxsG_",
        "colab": {
          "base_uri": "https://localhost:8080/"
        },
        "outputId": "600b335d-755d-45fe-835c-8649e243b9c8"
      },
      "execution_count": 17,
      "outputs": [
        {
          "output_type": "stream",
          "name": "stderr",
          "text": [
            "100%|██████████| 242/242 [03:12<00:00,  1.26it/s]\n"
          ]
        }
      ]
    },
    {
      "cell_type": "markdown",
      "source": [
        "lets see the rounded distance count from the predicted score of the teacher model to the real score "
      ],
      "metadata": {
        "id": "nKDokiXIK2rg"
      }
    },
    {
      "cell_type": "code",
      "source": [
        "df_psudo['distance'] = round(abs(df_psudo['psudo'] - df_psudo['output']),1)\n",
        "df_psudo.groupby('distance').count()"
      ],
      "metadata": {
        "execution": {
          "iopub.status.busy": "2022-06-15T13:08:11.594717Z",
          "iopub.execute_input": "2022-06-15T13:08:11.595103Z",
          "iopub.status.idle": "2022-06-15T13:08:11.626039Z",
          "shell.execute_reply.started": "2022-06-15T13:08:11.595068Z",
          "shell.execute_reply": "2022-06-15T13:08:11.625152Z"
        },
        "trusted": true,
        "id": "0RirVAsnxsG_",
        "colab": {
          "base_uri": "https://localhost:8080/",
          "height": 458
        },
        "outputId": "d8c5fda3-1c32-4767-f7ba-ea2b9436d1f1"
      },
      "execution_count": 18,
      "outputs": [
        {
          "output_type": "execute_result",
          "data": {
            "text/plain": [
              "          conference  Date  title   id  IMPACT  SUBSTANCE  APPROPRIATENESS  \\\n",
              "distance                                                                     \n",
              "0.0              504   504    504  504      59         60               48   \n",
              "0.1              918   918    918  918     133        129               88   \n",
              "0.2              660   660    660  660      89         87               64   \n",
              "0.3              496   496    496  496     103         94               78   \n",
              "0.4              235   235    235  235      49         49               39   \n",
              "0.5              105   105    105  105      29         25               20   \n",
              "0.6               26    26     26   26       9          7                5   \n",
              "0.7                9     9      9    9       2          2                1   \n",
              "0.8                2     2      2    2       1          1                1   \n",
              "0.9                1     1      1    1       0          0                0   \n",
              "\n",
              "          MEANINGFUL_COMPARISON  SOUNDNESS_CORRECTNESS  ORIGINALITY  CLARITY  \\\n",
              "distance                                                                       \n",
              "0.0                          51                     66           80       77   \n",
              "0.1                         105                    147          158      144   \n",
              "0.2                          77                    102          127      105   \n",
              "0.3                          86                    113          119      118   \n",
              "0.4                          46                     55           59       63   \n",
              "0.5                          20                     36           37       33   \n",
              "0.6                           5                      8           12        7   \n",
              "0.7                           2                      3            2        2   \n",
              "0.8                           2                      2            1        1   \n",
              "0.9                           0                      0            1        0   \n",
              "\n",
              "          REVIEWER_CONFIDENCE  accepted  RECOMMENDATION  comments  output  \\\n",
              "distance                                                                    \n",
              "0.0                       501       460             504       504     504   \n",
              "0.1                       909       837             918       918     918   \n",
              "0.2                       655       600             660       660     660   \n",
              "0.3                       492       426             496       496     496   \n",
              "0.4                       233       200             235       235     235   \n",
              "0.5                       104        88             105       105     105   \n",
              "0.6                        26        21              26        26      26   \n",
              "0.7                         9         8               9         9       9   \n",
              "0.8                         2         1               2         2       2   \n",
              "0.9                         1         1               1         1       1   \n",
              "\n",
              "          psudo  \n",
              "distance         \n",
              "0.0         504  \n",
              "0.1         918  \n",
              "0.2         660  \n",
              "0.3         496  \n",
              "0.4         235  \n",
              "0.5         105  \n",
              "0.6          26  \n",
              "0.7           9  \n",
              "0.8           2  \n",
              "0.9           1  "
            ],
            "text/html": [
              "\n",
              "  <div id=\"df-b7c4ad06-7619-460a-81a7-e11935f35b4b\">\n",
              "    <div class=\"colab-df-container\">\n",
              "      <div>\n",
              "<style scoped>\n",
              "    .dataframe tbody tr th:only-of-type {\n",
              "        vertical-align: middle;\n",
              "    }\n",
              "\n",
              "    .dataframe tbody tr th {\n",
              "        vertical-align: top;\n",
              "    }\n",
              "\n",
              "    .dataframe thead th {\n",
              "        text-align: right;\n",
              "    }\n",
              "</style>\n",
              "<table border=\"1\" class=\"dataframe\">\n",
              "  <thead>\n",
              "    <tr style=\"text-align: right;\">\n",
              "      <th></th>\n",
              "      <th>conference</th>\n",
              "      <th>Date</th>\n",
              "      <th>title</th>\n",
              "      <th>id</th>\n",
              "      <th>IMPACT</th>\n",
              "      <th>SUBSTANCE</th>\n",
              "      <th>APPROPRIATENESS</th>\n",
              "      <th>MEANINGFUL_COMPARISON</th>\n",
              "      <th>SOUNDNESS_CORRECTNESS</th>\n",
              "      <th>ORIGINALITY</th>\n",
              "      <th>CLARITY</th>\n",
              "      <th>REVIEWER_CONFIDENCE</th>\n",
              "      <th>accepted</th>\n",
              "      <th>RECOMMENDATION</th>\n",
              "      <th>comments</th>\n",
              "      <th>output</th>\n",
              "      <th>psudo</th>\n",
              "    </tr>\n",
              "    <tr>\n",
              "      <th>distance</th>\n",
              "      <th></th>\n",
              "      <th></th>\n",
              "      <th></th>\n",
              "      <th></th>\n",
              "      <th></th>\n",
              "      <th></th>\n",
              "      <th></th>\n",
              "      <th></th>\n",
              "      <th></th>\n",
              "      <th></th>\n",
              "      <th></th>\n",
              "      <th></th>\n",
              "      <th></th>\n",
              "      <th></th>\n",
              "      <th></th>\n",
              "      <th></th>\n",
              "      <th></th>\n",
              "    </tr>\n",
              "  </thead>\n",
              "  <tbody>\n",
              "    <tr>\n",
              "      <th>0.0</th>\n",
              "      <td>504</td>\n",
              "      <td>504</td>\n",
              "      <td>504</td>\n",
              "      <td>504</td>\n",
              "      <td>59</td>\n",
              "      <td>60</td>\n",
              "      <td>48</td>\n",
              "      <td>51</td>\n",
              "      <td>66</td>\n",
              "      <td>80</td>\n",
              "      <td>77</td>\n",
              "      <td>501</td>\n",
              "      <td>460</td>\n",
              "      <td>504</td>\n",
              "      <td>504</td>\n",
              "      <td>504</td>\n",
              "      <td>504</td>\n",
              "    </tr>\n",
              "    <tr>\n",
              "      <th>0.1</th>\n",
              "      <td>918</td>\n",
              "      <td>918</td>\n",
              "      <td>918</td>\n",
              "      <td>918</td>\n",
              "      <td>133</td>\n",
              "      <td>129</td>\n",
              "      <td>88</td>\n",
              "      <td>105</td>\n",
              "      <td>147</td>\n",
              "      <td>158</td>\n",
              "      <td>144</td>\n",
              "      <td>909</td>\n",
              "      <td>837</td>\n",
              "      <td>918</td>\n",
              "      <td>918</td>\n",
              "      <td>918</td>\n",
              "      <td>918</td>\n",
              "    </tr>\n",
              "    <tr>\n",
              "      <th>0.2</th>\n",
              "      <td>660</td>\n",
              "      <td>660</td>\n",
              "      <td>660</td>\n",
              "      <td>660</td>\n",
              "      <td>89</td>\n",
              "      <td>87</td>\n",
              "      <td>64</td>\n",
              "      <td>77</td>\n",
              "      <td>102</td>\n",
              "      <td>127</td>\n",
              "      <td>105</td>\n",
              "      <td>655</td>\n",
              "      <td>600</td>\n",
              "      <td>660</td>\n",
              "      <td>660</td>\n",
              "      <td>660</td>\n",
              "      <td>660</td>\n",
              "    </tr>\n",
              "    <tr>\n",
              "      <th>0.3</th>\n",
              "      <td>496</td>\n",
              "      <td>496</td>\n",
              "      <td>496</td>\n",
              "      <td>496</td>\n",
              "      <td>103</td>\n",
              "      <td>94</td>\n",
              "      <td>78</td>\n",
              "      <td>86</td>\n",
              "      <td>113</td>\n",
              "      <td>119</td>\n",
              "      <td>118</td>\n",
              "      <td>492</td>\n",
              "      <td>426</td>\n",
              "      <td>496</td>\n",
              "      <td>496</td>\n",
              "      <td>496</td>\n",
              "      <td>496</td>\n",
              "    </tr>\n",
              "    <tr>\n",
              "      <th>0.4</th>\n",
              "      <td>235</td>\n",
              "      <td>235</td>\n",
              "      <td>235</td>\n",
              "      <td>235</td>\n",
              "      <td>49</td>\n",
              "      <td>49</td>\n",
              "      <td>39</td>\n",
              "      <td>46</td>\n",
              "      <td>55</td>\n",
              "      <td>59</td>\n",
              "      <td>63</td>\n",
              "      <td>233</td>\n",
              "      <td>200</td>\n",
              "      <td>235</td>\n",
              "      <td>235</td>\n",
              "      <td>235</td>\n",
              "      <td>235</td>\n",
              "    </tr>\n",
              "    <tr>\n",
              "      <th>0.5</th>\n",
              "      <td>105</td>\n",
              "      <td>105</td>\n",
              "      <td>105</td>\n",
              "      <td>105</td>\n",
              "      <td>29</td>\n",
              "      <td>25</td>\n",
              "      <td>20</td>\n",
              "      <td>20</td>\n",
              "      <td>36</td>\n",
              "      <td>37</td>\n",
              "      <td>33</td>\n",
              "      <td>104</td>\n",
              "      <td>88</td>\n",
              "      <td>105</td>\n",
              "      <td>105</td>\n",
              "      <td>105</td>\n",
              "      <td>105</td>\n",
              "    </tr>\n",
              "    <tr>\n",
              "      <th>0.6</th>\n",
              "      <td>26</td>\n",
              "      <td>26</td>\n",
              "      <td>26</td>\n",
              "      <td>26</td>\n",
              "      <td>9</td>\n",
              "      <td>7</td>\n",
              "      <td>5</td>\n",
              "      <td>5</td>\n",
              "      <td>8</td>\n",
              "      <td>12</td>\n",
              "      <td>7</td>\n",
              "      <td>26</td>\n",
              "      <td>21</td>\n",
              "      <td>26</td>\n",
              "      <td>26</td>\n",
              "      <td>26</td>\n",
              "      <td>26</td>\n",
              "    </tr>\n",
              "    <tr>\n",
              "      <th>0.7</th>\n",
              "      <td>9</td>\n",
              "      <td>9</td>\n",
              "      <td>9</td>\n",
              "      <td>9</td>\n",
              "      <td>2</td>\n",
              "      <td>2</td>\n",
              "      <td>1</td>\n",
              "      <td>2</td>\n",
              "      <td>3</td>\n",
              "      <td>2</td>\n",
              "      <td>2</td>\n",
              "      <td>9</td>\n",
              "      <td>8</td>\n",
              "      <td>9</td>\n",
              "      <td>9</td>\n",
              "      <td>9</td>\n",
              "      <td>9</td>\n",
              "    </tr>\n",
              "    <tr>\n",
              "      <th>0.8</th>\n",
              "      <td>2</td>\n",
              "      <td>2</td>\n",
              "      <td>2</td>\n",
              "      <td>2</td>\n",
              "      <td>1</td>\n",
              "      <td>1</td>\n",
              "      <td>1</td>\n",
              "      <td>2</td>\n",
              "      <td>2</td>\n",
              "      <td>1</td>\n",
              "      <td>1</td>\n",
              "      <td>2</td>\n",
              "      <td>1</td>\n",
              "      <td>2</td>\n",
              "      <td>2</td>\n",
              "      <td>2</td>\n",
              "      <td>2</td>\n",
              "    </tr>\n",
              "    <tr>\n",
              "      <th>0.9</th>\n",
              "      <td>1</td>\n",
              "      <td>1</td>\n",
              "      <td>1</td>\n",
              "      <td>1</td>\n",
              "      <td>0</td>\n",
              "      <td>0</td>\n",
              "      <td>0</td>\n",
              "      <td>0</td>\n",
              "      <td>0</td>\n",
              "      <td>1</td>\n",
              "      <td>0</td>\n",
              "      <td>1</td>\n",
              "      <td>1</td>\n",
              "      <td>1</td>\n",
              "      <td>1</td>\n",
              "      <td>1</td>\n",
              "      <td>1</td>\n",
              "    </tr>\n",
              "  </tbody>\n",
              "</table>\n",
              "</div>\n",
              "      <button class=\"colab-df-convert\" onclick=\"convertToInteractive('df-b7c4ad06-7619-460a-81a7-e11935f35b4b')\"\n",
              "              title=\"Convert this dataframe to an interactive table.\"\n",
              "              style=\"display:none;\">\n",
              "        \n",
              "  <svg xmlns=\"http://www.w3.org/2000/svg\" height=\"24px\"viewBox=\"0 0 24 24\"\n",
              "       width=\"24px\">\n",
              "    <path d=\"M0 0h24v24H0V0z\" fill=\"none\"/>\n",
              "    <path d=\"M18.56 5.44l.94 2.06.94-2.06 2.06-.94-2.06-.94-.94-2.06-.94 2.06-2.06.94zm-11 1L8.5 8.5l.94-2.06 2.06-.94-2.06-.94L8.5 2.5l-.94 2.06-2.06.94zm10 10l.94 2.06.94-2.06 2.06-.94-2.06-.94-.94-2.06-.94 2.06-2.06.94z\"/><path d=\"M17.41 7.96l-1.37-1.37c-.4-.4-.92-.59-1.43-.59-.52 0-1.04.2-1.43.59L10.3 9.45l-7.72 7.72c-.78.78-.78 2.05 0 2.83L4 21.41c.39.39.9.59 1.41.59.51 0 1.02-.2 1.41-.59l7.78-7.78 2.81-2.81c.8-.78.8-2.07 0-2.86zM5.41 20L4 18.59l7.72-7.72 1.47 1.35L5.41 20z\"/>\n",
              "  </svg>\n",
              "      </button>\n",
              "      \n",
              "  <style>\n",
              "    .colab-df-container {\n",
              "      display:flex;\n",
              "      flex-wrap:wrap;\n",
              "      gap: 12px;\n",
              "    }\n",
              "\n",
              "    .colab-df-convert {\n",
              "      background-color: #E8F0FE;\n",
              "      border: none;\n",
              "      border-radius: 50%;\n",
              "      cursor: pointer;\n",
              "      display: none;\n",
              "      fill: #1967D2;\n",
              "      height: 32px;\n",
              "      padding: 0 0 0 0;\n",
              "      width: 32px;\n",
              "    }\n",
              "\n",
              "    .colab-df-convert:hover {\n",
              "      background-color: #E2EBFA;\n",
              "      box-shadow: 0px 1px 2px rgba(60, 64, 67, 0.3), 0px 1px 3px 1px rgba(60, 64, 67, 0.15);\n",
              "      fill: #174EA6;\n",
              "    }\n",
              "\n",
              "    [theme=dark] .colab-df-convert {\n",
              "      background-color: #3B4455;\n",
              "      fill: #D2E3FC;\n",
              "    }\n",
              "\n",
              "    [theme=dark] .colab-df-convert:hover {\n",
              "      background-color: #434B5C;\n",
              "      box-shadow: 0px 1px 3px 1px rgba(0, 0, 0, 0.15);\n",
              "      filter: drop-shadow(0px 1px 2px rgba(0, 0, 0, 0.3));\n",
              "      fill: #FFFFFF;\n",
              "    }\n",
              "  </style>\n",
              "\n",
              "      <script>\n",
              "        const buttonEl =\n",
              "          document.querySelector('#df-b7c4ad06-7619-460a-81a7-e11935f35b4b button.colab-df-convert');\n",
              "        buttonEl.style.display =\n",
              "          google.colab.kernel.accessAllowed ? 'block' : 'none';\n",
              "\n",
              "        async function convertToInteractive(key) {\n",
              "          const element = document.querySelector('#df-b7c4ad06-7619-460a-81a7-e11935f35b4b');\n",
              "          const dataTable =\n",
              "            await google.colab.kernel.invokeFunction('convertToInteractive',\n",
              "                                                     [key], {});\n",
              "          if (!dataTable) return;\n",
              "\n",
              "          const docLinkHtml = 'Like what you see? Visit the ' +\n",
              "            '<a target=\"_blank\" href=https://colab.research.google.com/notebooks/data_table.ipynb>data table notebook</a>'\n",
              "            + ' to learn more about interactive tables.';\n",
              "          element.innerHTML = '';\n",
              "          dataTable['output_type'] = 'display_data';\n",
              "          await google.colab.output.renderOutput(dataTable, element);\n",
              "          const docLink = document.createElement('div');\n",
              "          docLink.innerHTML = docLinkHtml;\n",
              "          element.appendChild(docLink);\n",
              "        }\n",
              "      </script>\n",
              "    </div>\n",
              "  </div>\n",
              "  "
            ]
          },
          "metadata": {},
          "execution_count": 18
        }
      ]
    },
    {
      "cell_type": "markdown",
      "source": [
        "setting the labels in the dataset for the student model"
      ],
      "metadata": {
        "id": "8J8AjFTXLGzi"
      }
    },
    {
      "cell_type": "code",
      "source": [
        "r = []\n",
        "output_list = list(df_psudo['output'])\n",
        "psudo = list(df_psudo['psudo'])\n",
        "for i in range(len(output_list)):\n",
        "    if math.isnan(output_list[i]):\n",
        "        r.append(psudo[i])\n",
        "    else:\n",
        "        r.append(output_list[i])\n",
        "\n",
        "df_psudo['output'] = r\n",
        "df_psudo"
      ],
      "metadata": {
        "execution": {
          "iopub.status.busy": "2022-06-15T13:08:41.328713Z",
          "iopub.execute_input": "2022-06-15T13:08:41.329290Z",
          "iopub.status.idle": "2022-06-15T13:08:41.373685Z",
          "shell.execute_reply.started": "2022-06-15T13:08:41.329252Z",
          "shell.execute_reply": "2022-06-15T13:08:41.372870Z"
        },
        "trusted": true,
        "id": "Wa8kYa_6xsG_",
        "colab": {
          "base_uri": "https://localhost:8080/",
          "height": 1000
        },
        "outputId": "c8b91ec4-c36e-4b50-d58a-5aaee44d81cf"
      },
      "execution_count": 19,
      "outputs": [
        {
          "output_type": "execute_result",
          "data": {
            "text/plain": [
              "       conference  Date                                              title  \\\n",
              "2638    iclr_2017  2016                          Boosted Residual Networks   \n",
              "2639    iclr_2017  2016                          Boosted Residual Networks   \n",
              "2640    iclr_2017  2016                          Boosted Residual Networks   \n",
              "2641    iclr_2017  2016                          Boosted Residual Networks   \n",
              "2642    iclr_2017  2016                          Boosted Residual Networks   \n",
              "...           ...   ...                                                ...   \n",
              "15265  conll_2016  2016  Parsing for Universal Dependencies without tra...   \n",
              "15266  conll_2016  2016  Parsing for Universal Dependencies without tra...   \n",
              "15267  conll_2016  2016  Event Linking with Sentential Features from Co...   \n",
              "15268  conll_2016  2016  Event Linking with Sentential Features from Co...   \n",
              "15269  conll_2016  2016    Identifying Temporal Orientation of Word Senses   \n",
              "\n",
              "          id  IMPACT  SUBSTANCE  APPROPRIATENESS  MEANINGFUL_COMPARISON  \\\n",
              "2638   683.0     NaN        NaN              NaN                    NaN   \n",
              "2639   683.0     NaN        NaN              NaN                    NaN   \n",
              "2640   683.0     NaN        NaN              NaN                    NaN   \n",
              "2641   683.0     NaN        NaN              NaN                    NaN   \n",
              "2642   683.0     NaN        NaN              NaN                    NaN   \n",
              "...      ...     ...        ...              ...                    ...   \n",
              "15265  151.0     4.0        5.0              5.0                    5.0   \n",
              "15266  151.0     3.0        3.0              5.0                    3.0   \n",
              "15267   13.0     3.0        4.0              5.0                    5.0   \n",
              "15268   13.0     2.0        4.0              5.0                    3.0   \n",
              "15269   25.0     4.0        4.0              5.0                    5.0   \n",
              "\n",
              "       SOUNDNESS_CORRECTNESS  ORIGINALITY  CLARITY  REVIEWER_CONFIDENCE  \\\n",
              "2638                     NaN          NaN      NaN                  NaN   \n",
              "2639                     NaN          NaN      NaN                  NaN   \n",
              "2640                     NaN          NaN      NaN                  5.0   \n",
              "2641                     NaN          NaN      NaN                  5.0   \n",
              "2642                     NaN          NaN      NaN                  5.0   \n",
              "...                      ...          ...      ...                  ...   \n",
              "15265                    4.0          4.0      5.0                  4.0   \n",
              "15266                    4.0          2.0      4.0                  4.0   \n",
              "15267                    4.0          3.0      4.0                  4.0   \n",
              "15268                    3.0          3.0      5.0                  4.0   \n",
              "15269                    4.0          3.0      4.0                  2.0   \n",
              "\n",
              "      accepted  RECOMMENDATION  \\\n",
              "2638     False             NaN   \n",
              "2639     False             NaN   \n",
              "2640     False             2.0   \n",
              "2641     False             3.0   \n",
              "2642     False             2.0   \n",
              "...        ...             ...   \n",
              "15265      NaN             3.0   \n",
              "15266      NaN             2.0   \n",
              "15267      NaN             3.0   \n",
              "15268      NaN             2.0   \n",
              "15269      NaN             3.0   \n",
              "\n",
              "                                                comments    output     psudo  \\\n",
              "2638   The authors mention that they are not aiming t...  0.282676  0.282676   \n",
              "2639   All three reviewers point to significant defic...  0.272613  0.272613   \n",
              "2640   This paper proposes a boosting based ensemble ...  0.200000  0.360889   \n",
              "2641   The authors mention that they are not aiming t...  0.300000  0.327292   \n",
              "2642   The paper under consideration proposes a set o...  0.200000  0.216101   \n",
              "...                                                  ...       ...       ...   \n",
              "15265  The authors proposed an unsupervised algorithm...  0.300000  0.436735   \n",
              "15266  This paper presents a way to parse trees (name...  0.200000  0.429498   \n",
              "15267  This paper models event linking using CNNs. Gi...  0.300000  0.394215   \n",
              "15268  This paper presents a model for the task of ev...  0.200000  0.544733   \n",
              "15269  This paper presents an approach to tag word se...  0.300000  0.391765   \n",
              "\n",
              "       distance  \n",
              "2638        NaN  \n",
              "2639        NaN  \n",
              "2640        0.2  \n",
              "2641        0.0  \n",
              "2642        0.0  \n",
              "...         ...  \n",
              "15265       0.1  \n",
              "15266       0.2  \n",
              "15267       0.1  \n",
              "15268       0.3  \n",
              "15269       0.1  \n",
              "\n",
              "[5798 rows x 18 columns]"
            ],
            "text/html": [
              "\n",
              "  <div id=\"df-e89c7030-777a-402a-af6a-45f83505079b\">\n",
              "    <div class=\"colab-df-container\">\n",
              "      <div>\n",
              "<style scoped>\n",
              "    .dataframe tbody tr th:only-of-type {\n",
              "        vertical-align: middle;\n",
              "    }\n",
              "\n",
              "    .dataframe tbody tr th {\n",
              "        vertical-align: top;\n",
              "    }\n",
              "\n",
              "    .dataframe thead th {\n",
              "        text-align: right;\n",
              "    }\n",
              "</style>\n",
              "<table border=\"1\" class=\"dataframe\">\n",
              "  <thead>\n",
              "    <tr style=\"text-align: right;\">\n",
              "      <th></th>\n",
              "      <th>conference</th>\n",
              "      <th>Date</th>\n",
              "      <th>title</th>\n",
              "      <th>id</th>\n",
              "      <th>IMPACT</th>\n",
              "      <th>SUBSTANCE</th>\n",
              "      <th>APPROPRIATENESS</th>\n",
              "      <th>MEANINGFUL_COMPARISON</th>\n",
              "      <th>SOUNDNESS_CORRECTNESS</th>\n",
              "      <th>ORIGINALITY</th>\n",
              "      <th>CLARITY</th>\n",
              "      <th>REVIEWER_CONFIDENCE</th>\n",
              "      <th>accepted</th>\n",
              "      <th>RECOMMENDATION</th>\n",
              "      <th>comments</th>\n",
              "      <th>output</th>\n",
              "      <th>psudo</th>\n",
              "      <th>distance</th>\n",
              "    </tr>\n",
              "  </thead>\n",
              "  <tbody>\n",
              "    <tr>\n",
              "      <th>2638</th>\n",
              "      <td>iclr_2017</td>\n",
              "      <td>2016</td>\n",
              "      <td>Boosted Residual Networks</td>\n",
              "      <td>683.0</td>\n",
              "      <td>NaN</td>\n",
              "      <td>NaN</td>\n",
              "      <td>NaN</td>\n",
              "      <td>NaN</td>\n",
              "      <td>NaN</td>\n",
              "      <td>NaN</td>\n",
              "      <td>NaN</td>\n",
              "      <td>NaN</td>\n",
              "      <td>False</td>\n",
              "      <td>NaN</td>\n",
              "      <td>The authors mention that they are not aiming t...</td>\n",
              "      <td>0.282676</td>\n",
              "      <td>0.282676</td>\n",
              "      <td>NaN</td>\n",
              "    </tr>\n",
              "    <tr>\n",
              "      <th>2639</th>\n",
              "      <td>iclr_2017</td>\n",
              "      <td>2016</td>\n",
              "      <td>Boosted Residual Networks</td>\n",
              "      <td>683.0</td>\n",
              "      <td>NaN</td>\n",
              "      <td>NaN</td>\n",
              "      <td>NaN</td>\n",
              "      <td>NaN</td>\n",
              "      <td>NaN</td>\n",
              "      <td>NaN</td>\n",
              "      <td>NaN</td>\n",
              "      <td>NaN</td>\n",
              "      <td>False</td>\n",
              "      <td>NaN</td>\n",
              "      <td>All three reviewers point to significant defic...</td>\n",
              "      <td>0.272613</td>\n",
              "      <td>0.272613</td>\n",
              "      <td>NaN</td>\n",
              "    </tr>\n",
              "    <tr>\n",
              "      <th>2640</th>\n",
              "      <td>iclr_2017</td>\n",
              "      <td>2016</td>\n",
              "      <td>Boosted Residual Networks</td>\n",
              "      <td>683.0</td>\n",
              "      <td>NaN</td>\n",
              "      <td>NaN</td>\n",
              "      <td>NaN</td>\n",
              "      <td>NaN</td>\n",
              "      <td>NaN</td>\n",
              "      <td>NaN</td>\n",
              "      <td>NaN</td>\n",
              "      <td>5.0</td>\n",
              "      <td>False</td>\n",
              "      <td>2.0</td>\n",
              "      <td>This paper proposes a boosting based ensemble ...</td>\n",
              "      <td>0.200000</td>\n",
              "      <td>0.360889</td>\n",
              "      <td>0.2</td>\n",
              "    </tr>\n",
              "    <tr>\n",
              "      <th>2641</th>\n",
              "      <td>iclr_2017</td>\n",
              "      <td>2016</td>\n",
              "      <td>Boosted Residual Networks</td>\n",
              "      <td>683.0</td>\n",
              "      <td>NaN</td>\n",
              "      <td>NaN</td>\n",
              "      <td>NaN</td>\n",
              "      <td>NaN</td>\n",
              "      <td>NaN</td>\n",
              "      <td>NaN</td>\n",
              "      <td>NaN</td>\n",
              "      <td>5.0</td>\n",
              "      <td>False</td>\n",
              "      <td>3.0</td>\n",
              "      <td>The authors mention that they are not aiming t...</td>\n",
              "      <td>0.300000</td>\n",
              "      <td>0.327292</td>\n",
              "      <td>0.0</td>\n",
              "    </tr>\n",
              "    <tr>\n",
              "      <th>2642</th>\n",
              "      <td>iclr_2017</td>\n",
              "      <td>2016</td>\n",
              "      <td>Boosted Residual Networks</td>\n",
              "      <td>683.0</td>\n",
              "      <td>NaN</td>\n",
              "      <td>NaN</td>\n",
              "      <td>NaN</td>\n",
              "      <td>NaN</td>\n",
              "      <td>NaN</td>\n",
              "      <td>NaN</td>\n",
              "      <td>NaN</td>\n",
              "      <td>5.0</td>\n",
              "      <td>False</td>\n",
              "      <td>2.0</td>\n",
              "      <td>The paper under consideration proposes a set o...</td>\n",
              "      <td>0.200000</td>\n",
              "      <td>0.216101</td>\n",
              "      <td>0.0</td>\n",
              "    </tr>\n",
              "    <tr>\n",
              "      <th>...</th>\n",
              "      <td>...</td>\n",
              "      <td>...</td>\n",
              "      <td>...</td>\n",
              "      <td>...</td>\n",
              "      <td>...</td>\n",
              "      <td>...</td>\n",
              "      <td>...</td>\n",
              "      <td>...</td>\n",
              "      <td>...</td>\n",
              "      <td>...</td>\n",
              "      <td>...</td>\n",
              "      <td>...</td>\n",
              "      <td>...</td>\n",
              "      <td>...</td>\n",
              "      <td>...</td>\n",
              "      <td>...</td>\n",
              "      <td>...</td>\n",
              "      <td>...</td>\n",
              "    </tr>\n",
              "    <tr>\n",
              "      <th>15265</th>\n",
              "      <td>conll_2016</td>\n",
              "      <td>2016</td>\n",
              "      <td>Parsing for Universal Dependencies without tra...</td>\n",
              "      <td>151.0</td>\n",
              "      <td>4.0</td>\n",
              "      <td>5.0</td>\n",
              "      <td>5.0</td>\n",
              "      <td>5.0</td>\n",
              "      <td>4.0</td>\n",
              "      <td>4.0</td>\n",
              "      <td>5.0</td>\n",
              "      <td>4.0</td>\n",
              "      <td>NaN</td>\n",
              "      <td>3.0</td>\n",
              "      <td>The authors proposed an unsupervised algorithm...</td>\n",
              "      <td>0.300000</td>\n",
              "      <td>0.436735</td>\n",
              "      <td>0.1</td>\n",
              "    </tr>\n",
              "    <tr>\n",
              "      <th>15266</th>\n",
              "      <td>conll_2016</td>\n",
              "      <td>2016</td>\n",
              "      <td>Parsing for Universal Dependencies without tra...</td>\n",
              "      <td>151.0</td>\n",
              "      <td>3.0</td>\n",
              "      <td>3.0</td>\n",
              "      <td>5.0</td>\n",
              "      <td>3.0</td>\n",
              "      <td>4.0</td>\n",
              "      <td>2.0</td>\n",
              "      <td>4.0</td>\n",
              "      <td>4.0</td>\n",
              "      <td>NaN</td>\n",
              "      <td>2.0</td>\n",
              "      <td>This paper presents a way to parse trees (name...</td>\n",
              "      <td>0.200000</td>\n",
              "      <td>0.429498</td>\n",
              "      <td>0.2</td>\n",
              "    </tr>\n",
              "    <tr>\n",
              "      <th>15267</th>\n",
              "      <td>conll_2016</td>\n",
              "      <td>2016</td>\n",
              "      <td>Event Linking with Sentential Features from Co...</td>\n",
              "      <td>13.0</td>\n",
              "      <td>3.0</td>\n",
              "      <td>4.0</td>\n",
              "      <td>5.0</td>\n",
              "      <td>5.0</td>\n",
              "      <td>4.0</td>\n",
              "      <td>3.0</td>\n",
              "      <td>4.0</td>\n",
              "      <td>4.0</td>\n",
              "      <td>NaN</td>\n",
              "      <td>3.0</td>\n",
              "      <td>This paper models event linking using CNNs. Gi...</td>\n",
              "      <td>0.300000</td>\n",
              "      <td>0.394215</td>\n",
              "      <td>0.1</td>\n",
              "    </tr>\n",
              "    <tr>\n",
              "      <th>15268</th>\n",
              "      <td>conll_2016</td>\n",
              "      <td>2016</td>\n",
              "      <td>Event Linking with Sentential Features from Co...</td>\n",
              "      <td>13.0</td>\n",
              "      <td>2.0</td>\n",
              "      <td>4.0</td>\n",
              "      <td>5.0</td>\n",
              "      <td>3.0</td>\n",
              "      <td>3.0</td>\n",
              "      <td>3.0</td>\n",
              "      <td>5.0</td>\n",
              "      <td>4.0</td>\n",
              "      <td>NaN</td>\n",
              "      <td>2.0</td>\n",
              "      <td>This paper presents a model for the task of ev...</td>\n",
              "      <td>0.200000</td>\n",
              "      <td>0.544733</td>\n",
              "      <td>0.3</td>\n",
              "    </tr>\n",
              "    <tr>\n",
              "      <th>15269</th>\n",
              "      <td>conll_2016</td>\n",
              "      <td>2016</td>\n",
              "      <td>Identifying Temporal Orientation of Word Senses</td>\n",
              "      <td>25.0</td>\n",
              "      <td>4.0</td>\n",
              "      <td>4.0</td>\n",
              "      <td>5.0</td>\n",
              "      <td>5.0</td>\n",
              "      <td>4.0</td>\n",
              "      <td>3.0</td>\n",
              "      <td>4.0</td>\n",
              "      <td>2.0</td>\n",
              "      <td>NaN</td>\n",
              "      <td>3.0</td>\n",
              "      <td>This paper presents an approach to tag word se...</td>\n",
              "      <td>0.300000</td>\n",
              "      <td>0.391765</td>\n",
              "      <td>0.1</td>\n",
              "    </tr>\n",
              "  </tbody>\n",
              "</table>\n",
              "<p>5798 rows × 18 columns</p>\n",
              "</div>\n",
              "      <button class=\"colab-df-convert\" onclick=\"convertToInteractive('df-e89c7030-777a-402a-af6a-45f83505079b')\"\n",
              "              title=\"Convert this dataframe to an interactive table.\"\n",
              "              style=\"display:none;\">\n",
              "        \n",
              "  <svg xmlns=\"http://www.w3.org/2000/svg\" height=\"24px\"viewBox=\"0 0 24 24\"\n",
              "       width=\"24px\">\n",
              "    <path d=\"M0 0h24v24H0V0z\" fill=\"none\"/>\n",
              "    <path d=\"M18.56 5.44l.94 2.06.94-2.06 2.06-.94-2.06-.94-.94-2.06-.94 2.06-2.06.94zm-11 1L8.5 8.5l.94-2.06 2.06-.94-2.06-.94L8.5 2.5l-.94 2.06-2.06.94zm10 10l.94 2.06.94-2.06 2.06-.94-2.06-.94-.94-2.06-.94 2.06-2.06.94z\"/><path d=\"M17.41 7.96l-1.37-1.37c-.4-.4-.92-.59-1.43-.59-.52 0-1.04.2-1.43.59L10.3 9.45l-7.72 7.72c-.78.78-.78 2.05 0 2.83L4 21.41c.39.39.9.59 1.41.59.51 0 1.02-.2 1.41-.59l7.78-7.78 2.81-2.81c.8-.78.8-2.07 0-2.86zM5.41 20L4 18.59l7.72-7.72 1.47 1.35L5.41 20z\"/>\n",
              "  </svg>\n",
              "      </button>\n",
              "      \n",
              "  <style>\n",
              "    .colab-df-container {\n",
              "      display:flex;\n",
              "      flex-wrap:wrap;\n",
              "      gap: 12px;\n",
              "    }\n",
              "\n",
              "    .colab-df-convert {\n",
              "      background-color: #E8F0FE;\n",
              "      border: none;\n",
              "      border-radius: 50%;\n",
              "      cursor: pointer;\n",
              "      display: none;\n",
              "      fill: #1967D2;\n",
              "      height: 32px;\n",
              "      padding: 0 0 0 0;\n",
              "      width: 32px;\n",
              "    }\n",
              "\n",
              "    .colab-df-convert:hover {\n",
              "      background-color: #E2EBFA;\n",
              "      box-shadow: 0px 1px 2px rgba(60, 64, 67, 0.3), 0px 1px 3px 1px rgba(60, 64, 67, 0.15);\n",
              "      fill: #174EA6;\n",
              "    }\n",
              "\n",
              "    [theme=dark] .colab-df-convert {\n",
              "      background-color: #3B4455;\n",
              "      fill: #D2E3FC;\n",
              "    }\n",
              "\n",
              "    [theme=dark] .colab-df-convert:hover {\n",
              "      background-color: #434B5C;\n",
              "      box-shadow: 0px 1px 3px 1px rgba(0, 0, 0, 0.15);\n",
              "      filter: drop-shadow(0px 1px 2px rgba(0, 0, 0, 0.3));\n",
              "      fill: #FFFFFF;\n",
              "    }\n",
              "  </style>\n",
              "\n",
              "      <script>\n",
              "        const buttonEl =\n",
              "          document.querySelector('#df-e89c7030-777a-402a-af6a-45f83505079b button.colab-df-convert');\n",
              "        buttonEl.style.display =\n",
              "          google.colab.kernel.accessAllowed ? 'block' : 'none';\n",
              "\n",
              "        async function convertToInteractive(key) {\n",
              "          const element = document.querySelector('#df-e89c7030-777a-402a-af6a-45f83505079b');\n",
              "          const dataTable =\n",
              "            await google.colab.kernel.invokeFunction('convertToInteractive',\n",
              "                                                     [key], {});\n",
              "          if (!dataTable) return;\n",
              "\n",
              "          const docLinkHtml = 'Like what you see? Visit the ' +\n",
              "            '<a target=\"_blank\" href=https://colab.research.google.com/notebooks/data_table.ipynb>data table notebook</a>'\n",
              "            + ' to learn more about interactive tables.';\n",
              "          element.innerHTML = '';\n",
              "          dataTable['output_type'] = 'display_data';\n",
              "          await google.colab.output.renderOutput(dataTable, element);\n",
              "          const docLink = document.createElement('div');\n",
              "          docLink.innerHTML = docLinkHtml;\n",
              "          element.appendChild(docLink);\n",
              "        }\n",
              "      </script>\n",
              "    </div>\n",
              "  </div>\n",
              "  "
            ]
          },
          "metadata": {},
          "execution_count": 19
        }
      ]
    },
    {
      "cell_type": "code",
      "source": [
        "df_train, df_val = train_test_split(df_psudo, test_size=0.2)\n",
        "\n",
        "t, v = Dataset(df_train), Dataset(df_val)\n",
        "\n",
        "train_dataloader = torch.utils.data.DataLoader(t, batch_size=24, shuffle=True)\n",
        "val_dataloader = torch.utils.data.DataLoader(v, batch_size=24)"
      ],
      "metadata": {
        "execution": {
          "iopub.status.busy": "2022-06-15T13:09:21.752824Z",
          "iopub.execute_input": "2022-06-15T13:09:21.753207Z",
          "iopub.status.idle": "2022-06-15T13:10:05.599235Z",
          "shell.execute_reply.started": "2022-06-15T13:09:21.753176Z",
          "shell.execute_reply": "2022-06-15T13:10:05.598397Z"
        },
        "trusted": true,
        "id": "LkYlxVQ8xsHA"
      },
      "execution_count": 20,
      "outputs": []
    },
    {
      "cell_type": "markdown",
      "source": [
        "##training the student model"
      ],
      "metadata": {
        "id": "BIv4tGVDLemS"
      }
    },
    {
      "cell_type": "code",
      "source": [
        "student_model = BertClassifier()"
      ],
      "metadata": {
        "execution": {
          "iopub.status.busy": "2022-06-15T13:10:05.600992Z",
          "iopub.execute_input": "2022-06-15T13:10:05.601362Z",
          "iopub.status.idle": "2022-06-15T13:10:07.714348Z",
          "shell.execute_reply.started": "2022-06-15T13:10:05.601328Z",
          "shell.execute_reply": "2022-06-15T13:10:07.713413Z"
        },
        "trusted": true,
        "id": "Y-56E9_2xsHA",
        "colab": {
          "base_uri": "https://localhost:8080/"
        },
        "outputId": "cf2fb433-25b0-4882-c8c7-2cf5539f989e"
      },
      "execution_count": 21,
      "outputs": [
        {
          "output_type": "stream",
          "name": "stderr",
          "text": [
            "Some weights of the model checkpoint at bert-base-cased were not used when initializing BertModel: ['cls.predictions.bias', 'cls.seq_relationship.bias', 'cls.predictions.transform.LayerNorm.weight', 'cls.seq_relationship.weight', 'cls.predictions.transform.dense.bias', 'cls.predictions.decoder.weight', 'cls.predictions.transform.LayerNorm.bias', 'cls.predictions.transform.dense.weight']\n",
            "- This IS expected if you are initializing BertModel from the checkpoint of a model trained on another task or with another architecture (e.g. initializing a BertForSequenceClassification model from a BertForPreTraining model).\n",
            "- This IS NOT expected if you are initializing BertModel from the checkpoint of a model that you expect to be exactly identical (initializing a BertForSequenceClassification model from a BertForSequenceClassification model).\n"
          ]
        }
      ]
    },
    {
      "cell_type": "code",
      "source": [
        "EPOCHS = 25\n",
        "LR = 1e-6\n",
        "              \n",
        "train(student_model, train_dataloader, val_dataloader, LR, EPOCHS,24)"
      ],
      "metadata": {
        "execution": {
          "iopub.status.busy": "2022-06-15T13:10:25.973234Z",
          "iopub.execute_input": "2022-06-15T13:10:25.974306Z",
          "iopub.status.idle": "2022-06-15T14:40:45.457733Z",
          "shell.execute_reply.started": "2022-06-15T13:10:25.974259Z",
          "shell.execute_reply": "2022-06-15T14:40:45.456803Z"
        },
        "trusted": true,
        "id": "ruMm2x14xsHA",
        "colab": {
          "base_uri": "https://localhost:8080/",
          "height": 1000,
          "referenced_widgets": [
            "3eee591c1f094a5d8c4c40eae44d6d18",
            "76b77d34e7344417a8dc3eae4141faf6",
            "0fb9cddfe95545a2a54fd0d8fc52f60b",
            "c1b8d00c017643c08ef5d979e3c02ee0",
            "bb18a5a601604fe785ff191a625b6e60",
            "9ef646bc41e64e5697999a4c42220491",
            "08a056286b6044c686167aac9eaa429e",
            "641f5e0da91b43e0ac14d6d9408c38d8"
          ]
        },
        "outputId": "ba26555a-e526-4a5b-de29-1ad96dd6ea53"
      },
      "execution_count": 22,
      "outputs": [
        {
          "output_type": "display_data",
          "data": {
            "text/plain": [
              "<IPython.core.display.HTML object>"
            ],
            "text/html": [
              "Tracking run with wandb version 0.12.18"
            ]
          },
          "metadata": {}
        },
        {
          "output_type": "display_data",
          "data": {
            "text/plain": [
              "<IPython.core.display.HTML object>"
            ],
            "text/html": [
              "Run data is saved locally in <code>/content/wandb/run-20220617_211028-351gk5r1</code>"
            ]
          },
          "metadata": {}
        },
        {
          "output_type": "display_data",
          "data": {
            "text/plain": [
              "<IPython.core.display.HTML object>"
            ],
            "text/html": [
              "Syncing run <strong><a href=\"https://wandb.ai/amit1541541/bert/runs/351gk5r1\" target=\"_blank\">experiment_1</a></strong> to <a href=\"https://wandb.ai/amit1541541/bert\" target=\"_blank\">Weights & Biases</a> (<a href=\"https://wandb.me/run\" target=\"_blank\">docs</a>)<br/>"
            ]
          },
          "metadata": {}
        },
        {
          "output_type": "stream",
          "name": "stderr",
          "text": [
            "100%|██████████| 194/194 [06:38<00:00,  2.05s/it]\n"
          ]
        },
        {
          "output_type": "stream",
          "name": "stdout",
          "text": [
            "Epochs: 1 | Train Loss: 0.005769004204333368             | Val Loss: 0.005035915746000306\n"
          ]
        },
        {
          "output_type": "stream",
          "name": "stderr",
          "text": [
            "100%|██████████| 194/194 [06:39<00:00,  2.06s/it]\n"
          ]
        },
        {
          "output_type": "stream",
          "name": "stdout",
          "text": [
            "Epochs: 2 | Train Loss: 0.004309599997444418             | Val Loss: 0.0038049779703904843\n"
          ]
        },
        {
          "output_type": "stream",
          "name": "stderr",
          "text": [
            "100%|██████████| 194/194 [06:40<00:00,  2.07s/it]\n"
          ]
        },
        {
          "output_type": "stream",
          "name": "stdout",
          "text": [
            "Epochs: 3 | Train Loss: 0.003289891774764139             | Val Loss: 0.0026235595217038847\n"
          ]
        },
        {
          "output_type": "stream",
          "name": "stderr",
          "text": [
            "100%|██████████| 194/194 [06:41<00:00,  2.07s/it]\n"
          ]
        },
        {
          "output_type": "stream",
          "name": "stdout",
          "text": [
            "Epochs: 4 | Train Loss: 0.0021361966543911653             | Val Loss: 0.001990806499239186\n"
          ]
        },
        {
          "output_type": "stream",
          "name": "stderr",
          "text": [
            "100%|██████████| 194/194 [06:41<00:00,  2.07s/it]\n"
          ]
        },
        {
          "output_type": "stream",
          "name": "stdout",
          "text": [
            "Epochs: 5 | Train Loss: 0.0017973336874282067             | Val Loss: 0.001819112765249507\n"
          ]
        },
        {
          "output_type": "stream",
          "name": "stderr",
          "text": [
            "100%|██████████| 194/194 [06:41<00:00,  2.07s/it]\n"
          ]
        },
        {
          "output_type": "stream",
          "name": "stdout",
          "text": [
            "Epochs: 6 | Train Loss: 0.0015615741521483122             | Val Loss: 0.0017033666870075053\n"
          ]
        },
        {
          "output_type": "stream",
          "name": "stderr",
          "text": [
            "100%|██████████| 194/194 [06:41<00:00,  2.07s/it]\n"
          ]
        },
        {
          "output_type": "stream",
          "name": "stdout",
          "text": [
            "Epochs: 7 | Train Loss: 0.00153256205174431             | Val Loss: 0.0014063584008093537\n"
          ]
        },
        {
          "output_type": "stream",
          "name": "stderr",
          "text": [
            "100%|██████████| 194/194 [06:41<00:00,  2.07s/it]\n"
          ]
        },
        {
          "output_type": "stream",
          "name": "stdout",
          "text": [
            "Epochs: 8 | Train Loss: 0.0014606696429432288             | Val Loss: 0.0014999190746838675\n"
          ]
        },
        {
          "output_type": "stream",
          "name": "stderr",
          "text": [
            "100%|██████████| 194/194 [06:41<00:00,  2.07s/it]\n"
          ]
        },
        {
          "output_type": "stream",
          "name": "stdout",
          "text": [
            "Epochs: 9 | Train Loss: 0.0013377010762456961             | Val Loss: 0.0014742210314705453\n"
          ]
        },
        {
          "output_type": "stream",
          "name": "stderr",
          "text": [
            "100%|██████████| 194/194 [06:41<00:00,  2.07s/it]\n"
          ]
        },
        {
          "output_type": "stream",
          "name": "stdout",
          "text": [
            "Epochs: 10 | Train Loss: 0.0013057029725354824             | Val Loss: 0.0013851510874670126\n"
          ]
        },
        {
          "output_type": "stream",
          "name": "stderr",
          "text": [
            "100%|██████████| 194/194 [06:41<00:00,  2.07s/it]\n"
          ]
        },
        {
          "output_type": "stream",
          "name": "stdout",
          "text": [
            "Epochs: 11 | Train Loss: 0.0012625681779356596             | Val Loss: 0.0013853024731486521\n"
          ]
        },
        {
          "output_type": "stream",
          "name": "stderr",
          "text": [
            "100%|██████████| 194/194 [06:41<00:00,  2.07s/it]\n"
          ]
        },
        {
          "output_type": "stream",
          "name": "stdout",
          "text": [
            "Epochs: 12 | Train Loss: 0.001211511999900393             | Val Loss: 0.0013364175912635079\n"
          ]
        },
        {
          "output_type": "stream",
          "name": "stderr",
          "text": [
            "100%|██████████| 194/194 [06:42<00:00,  2.07s/it]\n"
          ]
        },
        {
          "output_type": "stream",
          "name": "stdout",
          "text": [
            "Epochs: 13 | Train Loss: 0.001214291406221087             | Val Loss: 0.0012895452693618577\n"
          ]
        },
        {
          "output_type": "stream",
          "name": "stderr",
          "text": [
            "100%|██████████| 194/194 [06:41<00:00,  2.07s/it]\n"
          ]
        },
        {
          "output_type": "stream",
          "name": "stdout",
          "text": [
            "Epochs: 14 | Train Loss: 0.0011815185791765848             | Val Loss: 0.0012631328487447623\n"
          ]
        },
        {
          "output_type": "stream",
          "name": "stderr",
          "text": [
            "100%|██████████| 194/194 [06:41<00:00,  2.07s/it]\n"
          ]
        },
        {
          "output_type": "stream",
          "name": "stdout",
          "text": [
            "Epochs: 15 | Train Loss: 0.0011451815322455969             | Val Loss: 0.0011999560455823767\n"
          ]
        },
        {
          "output_type": "stream",
          "name": "stderr",
          "text": [
            "100%|██████████| 194/194 [06:41<00:00,  2.07s/it]\n"
          ]
        },
        {
          "output_type": "stream",
          "name": "stdout",
          "text": [
            "Epochs: 16 | Train Loss: 0.0010885129304809167             | Val Loss: 0.001199787038635334\n"
          ]
        },
        {
          "output_type": "stream",
          "name": "stderr",
          "text": [
            "100%|██████████| 194/194 [06:41<00:00,  2.07s/it]\n"
          ]
        },
        {
          "output_type": "stream",
          "name": "stdout",
          "text": [
            "Epochs: 17 | Train Loss: 0.0011032769589437114             | Val Loss: 0.001197558736974566\n"
          ]
        },
        {
          "output_type": "stream",
          "name": "stderr",
          "text": [
            "100%|██████████| 194/194 [06:41<00:00,  2.07s/it]\n"
          ]
        },
        {
          "output_type": "stream",
          "name": "stdout",
          "text": [
            "Epochs: 18 | Train Loss: 0.0010730422255729693             | Val Loss: 0.0011838747870883551\n"
          ]
        },
        {
          "output_type": "stream",
          "name": "stderr",
          "text": [
            "100%|██████████| 194/194 [06:41<00:00,  2.07s/it]\n"
          ]
        },
        {
          "output_type": "stream",
          "name": "stdout",
          "text": [
            "Epochs: 19 | Train Loss: 0.0010195383410491195             | Val Loss: 0.0011475409493492594\n"
          ]
        },
        {
          "output_type": "stream",
          "name": "stderr",
          "text": [
            "100%|██████████| 194/194 [06:41<00:00,  2.07s/it]\n"
          ]
        },
        {
          "output_type": "stream",
          "name": "stdout",
          "text": [
            "Epochs: 20 | Train Loss: 0.0009766391965626076             | Val Loss: 0.0011697795723789725\n"
          ]
        },
        {
          "output_type": "stream",
          "name": "stderr",
          "text": [
            "100%|██████████| 194/194 [06:41<00:00,  2.07s/it]\n"
          ]
        },
        {
          "output_type": "stream",
          "name": "stdout",
          "text": [
            "Epochs: 21 | Train Loss: 0.0009536840201931017             | Val Loss: 0.0011772220303978898\n"
          ]
        },
        {
          "output_type": "stream",
          "name": "stderr",
          "text": [
            "100%|██████████| 194/194 [06:41<00:00,  2.07s/it]\n"
          ]
        },
        {
          "output_type": "stream",
          "name": "stdout",
          "text": [
            "Epochs: 22 | Train Loss: 0.0009327632288314778             | Val Loss: 0.0011905076961707451\n"
          ]
        },
        {
          "output_type": "stream",
          "name": "stderr",
          "text": [
            "100%|██████████| 194/194 [06:41<00:00,  2.07s/it]\n"
          ]
        },
        {
          "output_type": "stream",
          "name": "stdout",
          "text": [
            "Epochs: 23 | Train Loss: 0.0008723930832851596             | Val Loss: 0.0011012897104153345\n"
          ]
        },
        {
          "output_type": "stream",
          "name": "stderr",
          "text": [
            "100%|██████████| 194/194 [06:41<00:00,  2.07s/it]\n"
          ]
        },
        {
          "output_type": "stream",
          "name": "stdout",
          "text": [
            "Epochs: 24 | Train Loss: 0.0008644422502371387             | Val Loss: 0.001098830167782204\n"
          ]
        },
        {
          "output_type": "stream",
          "name": "stderr",
          "text": [
            "100%|██████████| 194/194 [06:41<00:00,  2.07s/it]\n"
          ]
        },
        {
          "output_type": "stream",
          "name": "stdout",
          "text": [
            "Epochs: 25 | Train Loss: 0.0008196056928484025             | Val Loss: 0.0011355794050955568\n"
          ]
        },
        {
          "output_type": "display_data",
          "data": {
            "text/plain": [
              "<IPython.core.display.HTML object>"
            ],
            "text/html": [
              "Waiting for W&B process to finish... <strong style=\"color:green\">(success).</strong>"
            ]
          },
          "metadata": {}
        },
        {
          "output_type": "display_data",
          "data": {
            "text/plain": [
              "VBox(children=(Label(value='0.001 MB of 0.001 MB uploaded (0.000 MB deduped)\\r'), FloatProgress(value=1.0, max…"
            ],
            "application/vnd.jupyter.widget-view+json": {
              "version_major": 2,
              "version_minor": 0,
              "model_id": "3eee591c1f094a5d8c4c40eae44d6d18"
            }
          },
          "metadata": {}
        },
        {
          "output_type": "display_data",
          "data": {
            "text/plain": [
              "<IPython.core.display.HTML object>"
            ],
            "text/html": [
              "<style>\n",
              "    table.wandb td:nth-child(1) { padding: 0 10px; text-align: left ; width: auto;} td:nth-child(2) {text-align: left ; width: 100%}\n",
              "    .wandb-row { display: flex; flex-direction: row; flex-wrap: wrap; justify-content: flex-start; width: 100% }\n",
              "    .wandb-col { display: flex; flex-direction: column; flex-basis: 100%; flex: 1; padding: 10px; }\n",
              "    </style>\n",
              "<div class=\"wandb-row\"><div class=\"wandb-col\"><h3>Run history:</h3><br/><table class=\"wandb\"><tr><td>Train Loss</td><td>█▇▆▅▄▃▃▂▂▂▂▂▂▂▁▂▂▂▂▂▂▂▁▁▁▁▁▁▁▁▁▁▁▁▁▁▁▁▁▁</td></tr><tr><td>Val loss</td><td>█▃▃▂▂▃▁▂▃▁▂▁▁▂▁▁▂▁▂▂▁▁▁▁▂▁▁▂▁▁▂▁▁▁▁▂▁▁▂▁</td></tr><tr><td>epoch_train loss</td><td>█▆▄▃▂▂▂▂▂▂▂▂▂▂▁▁▁▁▁▁▁▁▁▁▁</td></tr><tr><td>epoch_val loss</td><td>█▆▄▃▂▂▂▂▂▂▂▁▁▁▁▁▁▁▁▁▁▁▁▁▁</td></tr></table><br/></div><div class=\"wandb-col\"><h3>Run summary:</h3><br/><table class=\"wandb\"><tr><td>Train Loss</td><td>0.00082</td></tr><tr><td>Val loss</td><td>0.00396</td></tr><tr><td>epoch_train loss</td><td>0.00082</td></tr><tr><td>epoch_val loss</td><td>0.00114</td></tr></table><br/></div></div>"
            ]
          },
          "metadata": {}
        },
        {
          "output_type": "display_data",
          "data": {
            "text/plain": [
              "<IPython.core.display.HTML object>"
            ],
            "text/html": [
              "Synced <strong style=\"color:#cdcd00\">experiment_1</strong>: <a href=\"https://wandb.ai/amit1541541/bert/runs/351gk5r1\" target=\"_blank\">https://wandb.ai/amit1541541/bert/runs/351gk5r1</a><br/>Synced 5 W&B file(s), 0 media file(s), 0 artifact file(s) and 0 other file(s)"
            ]
          },
          "metadata": {}
        },
        {
          "output_type": "display_data",
          "data": {
            "text/plain": [
              "<IPython.core.display.HTML object>"
            ],
            "text/html": [
              "Find logs at: <code>./wandb/run-20220617_211028-351gk5r1/logs</code>"
            ]
          },
          "metadata": {}
        }
      ]
    },
    {
      "cell_type": "markdown",
      "source": [
        "testing the student and teacher models"
      ],
      "metadata": {
        "id": "AOrRKEebNF8p"
      }
    },
    {
      "cell_type": "code",
      "source": [
        "test_dataloader = torch.utils.data.DataLoader(Dataset(df_test), batch_size=24, shuffle=True)"
      ],
      "metadata": {
        "id": "_NxsrXriNM87"
      },
      "execution_count": 23,
      "outputs": []
    },
    {
      "cell_type": "code",
      "source": [
        "student_labels = get_pseudo_labels(student_model, test_dataloader)\n",
        "teacher_labels = get_pseudo_labels(teacher_model, test_dataloader)\n",
        "df_test['student_labels'] = student_labels\n",
        "df_test['teacher_labels'] = teacher_labels\n",
        "df_test['mse_teacher'] = (df_test['teacher_labels'] - df_test['output'])**2\n",
        "df_test['mse_student'] = (df_test['student_labels'] - df_test['output'])**2"
      ],
      "metadata": {
        "execution": {
          "iopub.status.busy": "2022-06-15T16:13:41.040145Z",
          "iopub.execute_input": "2022-06-15T16:13:41.040695Z",
          "iopub.status.idle": "2022-06-15T16:13:41.157506Z",
          "shell.execute_reply.started": "2022-06-15T16:13:41.040587Z",
          "shell.execute_reply": "2022-06-15T16:13:41.156382Z"
        },
        "trusted": true,
        "id": "lPaiUEgHxsHB",
        "colab": {
          "base_uri": "https://localhost:8080/"
        },
        "outputId": "68df0465-22fa-4943-c866-5a91d36aa15a"
      },
      "execution_count": 24,
      "outputs": [
        {
          "output_type": "stream",
          "name": "stderr",
          "text": [
            "100%|██████████| 13/13 [00:09<00:00,  1.38it/s]\n",
            "100%|██████████| 13/13 [00:09<00:00,  1.34it/s]\n"
          ]
        }
      ]
    },
    {
      "cell_type": "code",
      "source": [
        "mse_student = sum(df_test['mse_student']) / len(df_test['mse_student'])\n",
        "mse_teacher = sum(df_test['mse_teacher']) / len(df_test['mse_teacher'])\n",
        "print(\"student model mse:\" + str(mse_student))\n",
        "print(\"teacher model mse:\" + str(mse_teacher))"
      ],
      "metadata": {
        "execution": {
          "iopub.status.busy": "2022-06-15T07:42:17.519575Z",
          "iopub.execute_input": "2022-06-15T07:42:17.520417Z",
          "iopub.status.idle": "2022-06-15T07:42:17.531301Z",
          "shell.execute_reply.started": "2022-06-15T07:42:17.520361Z",
          "shell.execute_reply": "2022-06-15T07:42:17.530441Z"
        },
        "trusted": true,
        "id": "Vfsu3leyxsHB",
        "colab": {
          "base_uri": "https://localhost:8080/"
        },
        "outputId": "dd84dcdd-c6c1-43c8-de0d-d0b45da270cf"
      },
      "execution_count": 25,
      "outputs": [
        {
          "output_type": "stream",
          "name": "stdout",
          "text": [
            "student model mse:0.04407974721861084\n",
            "teacher model mse:0.05504566664891854\n"
          ]
        }
      ]
    }
  ]
}